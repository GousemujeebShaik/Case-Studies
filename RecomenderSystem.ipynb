{
  "nbformat": 4,
  "nbformat_minor": 0,
  "metadata": {
    "colab": {
      "name": "RecomenderSystem.ipynb",
      "provenance": [],
      "collapsed_sections": [],
      "include_colab_link": true
    },
    "kernelspec": {
      "name": "python3",
      "display_name": "Python 3"
    },
    "language_info": {
      "name": "python"
    }
  },
  "cells": [
    {
      "cell_type": "markdown",
      "metadata": {
        "id": "view-in-github",
        "colab_type": "text"
      },
      "source": [
        "<a href=\"https://colab.research.google.com/github/GousemujeebShaik/Case-Studies/blob/main/RecomenderSystem.ipynb\" target=\"_parent\"><img src=\"https://colab.research.google.com/assets/colab-badge.svg\" alt=\"Open In Colab\"/></a>"
      ]
    },
    {
      "cell_type": "markdown",
      "metadata": {
        "id": "2G1nRKApxCjV"
      },
      "source": [
        "# MUSIC RECOMMENDATION SYSTEM\n",
        "We have four datasets namely:\n",
        "\n",
        "1) kaggle_users.txt: This dataset consists of different users who listen to the song represented by the column 'userid'.\n",
        "\n",
        "2) kaggle_songs.txt: This dataset consists of different songs with their respective song IDs.\n",
        "\n",
        "3) kaggle_visible_evaluation_triplets.txt: This dataset consists of three columns namely, Userid , Songid and Freq\n",
        "\n",
        "4) unique_tracks.txt: This dataset consists of four columns namely,Trackid', 'Songid','ArtistName' and'Release'"
      ]
    },
    {
      "cell_type": "code",
      "metadata": {
        "id": "CiQSMHtf6TEm"
      },
      "source": [
        " \n",
        "# Import section Github\n",
        "import numpy as np\n",
        "import pandas as pd\n",
        "import matplotlib.pyplot as plt\n",
        "import seaborn as sns\n",
        "%matplotlib inline\n",
        "import warnings\n",
        "warnings.filterwarnings('ignore')"
      ],
      "execution_count": 1,
      "outputs": []
    },
    {
      "cell_type": "markdown",
      "metadata": {
        "id": "VEuhpA0BFdeQ"
      },
      "source": [
        "Lets read all the Four DataSets:\n",
        "1. Users: Where we have all the unique UserID's.\n",
        "2. Songs: We have list of all the SongID's\n",
        "3. Triplets: This data set will give the frequency of the Songs listned by user.\n",
        "4. Unique Track: Will give us the details of the Song Artist and release"
      ]
    },
    {
      "cell_type": "code",
      "metadata": {
        "colab": {
          "base_uri": "https://localhost:8080/",
          "height": 203
        },
        "id": "ZMNZ_erFB84W",
        "outputId": "3cda0c4b-3fbc-4bba-a86d-35ffb21f4599"
      },
      "source": [
        "df_user = pd.read_csv('data/kaggle_users.txt', sep='\\t', names=['userid'])\n",
        "df_user.head()"
      ],
      "execution_count": 4,
      "outputs": [
        {
          "output_type": "execute_result",
          "data": {
            "text/html": [
              "<div>\n",
              "<style scoped>\n",
              "    .dataframe tbody tr th:only-of-type {\n",
              "        vertical-align: middle;\n",
              "    }\n",
              "\n",
              "    .dataframe tbody tr th {\n",
              "        vertical-align: top;\n",
              "    }\n",
              "\n",
              "    .dataframe thead th {\n",
              "        text-align: right;\n",
              "    }\n",
              "</style>\n",
              "<table border=\"1\" class=\"dataframe\">\n",
              "  <thead>\n",
              "    <tr style=\"text-align: right;\">\n",
              "      <th></th>\n",
              "      <th>userid</th>\n",
              "    </tr>\n",
              "  </thead>\n",
              "  <tbody>\n",
              "    <tr>\n",
              "      <th>0</th>\n",
              "      <td>fd50c4007b68a3737fe052d5a4f78ce8aa117f3d</td>\n",
              "    </tr>\n",
              "    <tr>\n",
              "      <th>1</th>\n",
              "      <td>d7083f5e1d50c264277d624340edaaf3dc16095b</td>\n",
              "    </tr>\n",
              "    <tr>\n",
              "      <th>2</th>\n",
              "      <td>d68dc6fc25248234590d7668a11e3335534ae4b4</td>\n",
              "    </tr>\n",
              "    <tr>\n",
              "      <th>3</th>\n",
              "      <td>9be82340a8b5ef32357fe5af957ccd54736ece95</td>\n",
              "    </tr>\n",
              "    <tr>\n",
              "      <th>4</th>\n",
              "      <td>841b2394ae3a9febbd6b06497b4a8ee8eb24b7f8</td>\n",
              "    </tr>\n",
              "  </tbody>\n",
              "</table>\n",
              "</div>"
            ],
            "text/plain": [
              "                                     userid\n",
              "0  fd50c4007b68a3737fe052d5a4f78ce8aa117f3d\n",
              "1  d7083f5e1d50c264277d624340edaaf3dc16095b\n",
              "2  d68dc6fc25248234590d7668a11e3335534ae4b4\n",
              "3  9be82340a8b5ef32357fe5af957ccd54736ece95\n",
              "4  841b2394ae3a9febbd6b06497b4a8ee8eb24b7f8"
            ]
          },
          "metadata": {
            "tags": []
          },
          "execution_count": 4
        }
      ]
    },
    {
      "cell_type": "code",
      "metadata": {
        "colab": {
          "base_uri": "https://localhost:8080/",
          "height": 203
        },
        "id": "f8vqhXaACw3f",
        "outputId": "5f88e1b9-372c-49c4-b6de-1069b6569651"
      },
      "source": [
        "df_songs = pd.read_csv('data/kaggle_songs.txt', sep=' ', names=['SongID','Sr.No'])\n",
        "df_songs.drop('Sr.No', axis=1, inplace=True)\n",
        "df_songs.head()"
      ],
      "execution_count": 5,
      "outputs": [
        {
          "output_type": "execute_result",
          "data": {
            "text/html": [
              "<div>\n",
              "<style scoped>\n",
              "    .dataframe tbody tr th:only-of-type {\n",
              "        vertical-align: middle;\n",
              "    }\n",
              "\n",
              "    .dataframe tbody tr th {\n",
              "        vertical-align: top;\n",
              "    }\n",
              "\n",
              "    .dataframe thead th {\n",
              "        text-align: right;\n",
              "    }\n",
              "</style>\n",
              "<table border=\"1\" class=\"dataframe\">\n",
              "  <thead>\n",
              "    <tr style=\"text-align: right;\">\n",
              "      <th></th>\n",
              "      <th>SongID</th>\n",
              "    </tr>\n",
              "  </thead>\n",
              "  <tbody>\n",
              "    <tr>\n",
              "      <th>0</th>\n",
              "      <td>SOAAADD12AB018A9DD</td>\n",
              "    </tr>\n",
              "    <tr>\n",
              "      <th>1</th>\n",
              "      <td>SOAAADE12A6D4F80CC</td>\n",
              "    </tr>\n",
              "    <tr>\n",
              "      <th>2</th>\n",
              "      <td>SOAAADF12A8C13DF62</td>\n",
              "    </tr>\n",
              "    <tr>\n",
              "      <th>3</th>\n",
              "      <td>SOAAADZ12A8C1334FB</td>\n",
              "    </tr>\n",
              "    <tr>\n",
              "      <th>4</th>\n",
              "      <td>SOAAAFI12A6D4F9C66</td>\n",
              "    </tr>\n",
              "  </tbody>\n",
              "</table>\n",
              "</div>"
            ],
            "text/plain": [
              "               SongID\n",
              "0  SOAAADD12AB018A9DD\n",
              "1  SOAAADE12A6D4F80CC\n",
              "2  SOAAADF12A8C13DF62\n",
              "3  SOAAADZ12A8C1334FB\n",
              "4  SOAAAFI12A6D4F9C66"
            ]
          },
          "metadata": {
            "tags": []
          },
          "execution_count": 5
        }
      ]
    },
    {
      "cell_type": "code",
      "metadata": {
        "id": "qV2lQH_66fH6",
        "colab": {
          "base_uri": "https://localhost:8080/",
          "height": 203
        },
        "outputId": "318bebfe-ecb5-4aa4-cdd3-8fdb21c940fa"
      },
      "source": [
        "df_triplet = pd.read_csv('data/kaggle_visible_evaluation_triplets.txt', sep='\\t', names=['Userid', 'Songid','Freq'])\n",
        "df_triplet.head()"
      ],
      "execution_count": 6,
      "outputs": [
        {
          "output_type": "execute_result",
          "data": {
            "text/html": [
              "<div>\n",
              "<style scoped>\n",
              "    .dataframe tbody tr th:only-of-type {\n",
              "        vertical-align: middle;\n",
              "    }\n",
              "\n",
              "    .dataframe tbody tr th {\n",
              "        vertical-align: top;\n",
              "    }\n",
              "\n",
              "    .dataframe thead th {\n",
              "        text-align: right;\n",
              "    }\n",
              "</style>\n",
              "<table border=\"1\" class=\"dataframe\">\n",
              "  <thead>\n",
              "    <tr style=\"text-align: right;\">\n",
              "      <th></th>\n",
              "      <th>Userid</th>\n",
              "      <th>Songid</th>\n",
              "      <th>Freq</th>\n",
              "    </tr>\n",
              "  </thead>\n",
              "  <tbody>\n",
              "    <tr>\n",
              "      <th>0</th>\n",
              "      <td>fd50c4007b68a3737fe052d5a4f78ce8aa117f3d</td>\n",
              "      <td>SOBONKR12A58A7A7E0</td>\n",
              "      <td>1.0</td>\n",
              "    </tr>\n",
              "    <tr>\n",
              "      <th>1</th>\n",
              "      <td>fd50c4007b68a3737fe052d5a4f78ce8aa117f3d</td>\n",
              "      <td>SOEGIYH12A6D4FC0E3</td>\n",
              "      <td>1.0</td>\n",
              "    </tr>\n",
              "    <tr>\n",
              "      <th>2</th>\n",
              "      <td>fd50c4007b68a3737fe052d5a4f78ce8aa117f3d</td>\n",
              "      <td>SOFLJQZ12A6D4FADA6</td>\n",
              "      <td>1.0</td>\n",
              "    </tr>\n",
              "    <tr>\n",
              "      <th>3</th>\n",
              "      <td>fd50c4007b68a3737fe052d5a4f78ce8aa117f3d</td>\n",
              "      <td>SOHTKMO12AB01843B0</td>\n",
              "      <td>1.0</td>\n",
              "    </tr>\n",
              "    <tr>\n",
              "      <th>4</th>\n",
              "      <td>fd50c4007b68a3737fe052d5a4f78ce8aa117f3d</td>\n",
              "      <td>SODQZCY12A6D4F9D11</td>\n",
              "      <td>1.0</td>\n",
              "    </tr>\n",
              "  </tbody>\n",
              "</table>\n",
              "</div>"
            ],
            "text/plain": [
              "                                     Userid              Songid  Freq\n",
              "0  fd50c4007b68a3737fe052d5a4f78ce8aa117f3d  SOBONKR12A58A7A7E0   1.0\n",
              "1  fd50c4007b68a3737fe052d5a4f78ce8aa117f3d  SOEGIYH12A6D4FC0E3   1.0\n",
              "2  fd50c4007b68a3737fe052d5a4f78ce8aa117f3d  SOFLJQZ12A6D4FADA6   1.0\n",
              "3  fd50c4007b68a3737fe052d5a4f78ce8aa117f3d  SOHTKMO12AB01843B0   1.0\n",
              "4  fd50c4007b68a3737fe052d5a4f78ce8aa117f3d  SODQZCY12A6D4F9D11   1.0"
            ]
          },
          "metadata": {
            "tags": []
          },
          "execution_count": 6
        }
      ]
    },
    {
      "cell_type": "code",
      "metadata": {
        "colab": {
          "base_uri": "https://localhost:8080/",
          "height": 203
        },
        "id": "nvNpm7sRDvME",
        "outputId": "a92cd19a-cc02-498e-d846-a9e9aafa9545"
      },
      "source": [
        "df_uniquetrack = pd.read_csv('data/unique_tracks.txt', sep='<SEP>', names=['Trackid', 'Songid','ArtistName','Release'])\n",
        "df_uniquetrack.head()"
      ],
      "execution_count": 7,
      "outputs": [
        {
          "output_type": "execute_result",
          "data": {
            "text/html": [
              "<div>\n",
              "<style scoped>\n",
              "    .dataframe tbody tr th:only-of-type {\n",
              "        vertical-align: middle;\n",
              "    }\n",
              "\n",
              "    .dataframe tbody tr th {\n",
              "        vertical-align: top;\n",
              "    }\n",
              "\n",
              "    .dataframe thead th {\n",
              "        text-align: right;\n",
              "    }\n",
              "</style>\n",
              "<table border=\"1\" class=\"dataframe\">\n",
              "  <thead>\n",
              "    <tr style=\"text-align: right;\">\n",
              "      <th></th>\n",
              "      <th>Trackid</th>\n",
              "      <th>Songid</th>\n",
              "      <th>ArtistName</th>\n",
              "      <th>Release</th>\n",
              "    </tr>\n",
              "  </thead>\n",
              "  <tbody>\n",
              "    <tr>\n",
              "      <th>0</th>\n",
              "      <td>TRMMMYQ128F932D901</td>\n",
              "      <td>SOQMMHC12AB0180CB8</td>\n",
              "      <td>Faster Pussy cat</td>\n",
              "      <td>Silent Night</td>\n",
              "    </tr>\n",
              "    <tr>\n",
              "      <th>1</th>\n",
              "      <td>TRMMMKD128F425225D</td>\n",
              "      <td>SOVFVAK12A8C1350D9</td>\n",
              "      <td>Karkkiautomaatti</td>\n",
              "      <td>Tanssi vaan</td>\n",
              "    </tr>\n",
              "    <tr>\n",
              "      <th>2</th>\n",
              "      <td>TRMMMRX128F93187D9</td>\n",
              "      <td>SOGTUKN12AB017F4F1</td>\n",
              "      <td>Hudson Mohawke</td>\n",
              "      <td>No One Could Ever</td>\n",
              "    </tr>\n",
              "    <tr>\n",
              "      <th>3</th>\n",
              "      <td>TRMMMCH128F425532C</td>\n",
              "      <td>SOBNYVR12A8C13558C</td>\n",
              "      <td>Yerba Brava</td>\n",
              "      <td>Si Vos Querés</td>\n",
              "    </tr>\n",
              "    <tr>\n",
              "      <th>4</th>\n",
              "      <td>TRMMMWA128F426B589</td>\n",
              "      <td>SOHSBXH12A8C13B0DF</td>\n",
              "      <td>Der Mystic</td>\n",
              "      <td>Tangle Of Aspens</td>\n",
              "    </tr>\n",
              "  </tbody>\n",
              "</table>\n",
              "</div>"
            ],
            "text/plain": [
              "              Trackid              Songid        ArtistName            Release\n",
              "0  TRMMMYQ128F932D901  SOQMMHC12AB0180CB8  Faster Pussy cat       Silent Night\n",
              "1  TRMMMKD128F425225D  SOVFVAK12A8C1350D9  Karkkiautomaatti        Tanssi vaan\n",
              "2  TRMMMRX128F93187D9  SOGTUKN12AB017F4F1    Hudson Mohawke  No One Could Ever\n",
              "3  TRMMMCH128F425532C  SOBNYVR12A8C13558C       Yerba Brava      Si Vos Querés\n",
              "4  TRMMMWA128F426B589  SOHSBXH12A8C13B0DF        Der Mystic   Tangle Of Aspens"
            ]
          },
          "metadata": {
            "tags": []
          },
          "execution_count": 7
        }
      ]
    },
    {
      "cell_type": "markdown",
      "metadata": {
        "id": "6UUmcAbAGA1l"
      },
      "source": [
        "Now that all the Data is available, let's start with the EDA Analysis"
      ]
    },
    {
      "cell_type": "markdown",
      "metadata": {
        "id": "KigpRWtjGOqp"
      },
      "source": [
        "Merge both the Triplets and Unique Track dataset on the Song ID columns."
      ]
    },
    {
      "cell_type": "code",
      "metadata": {
        "id": "MH48GB-kGNHL",
        "colab": {
          "base_uri": "https://localhost:8080/",
          "height": 203
        },
        "outputId": "69cc4f31-583b-43ab-8b72-1a7d12307f0f"
      },
      "source": [
        "df_merge=pd.merge(df_triplet,df_uniquetrack, how='left')\n",
        "df_merge.tail()"
      ],
      "execution_count": 8,
      "outputs": [
        {
          "output_type": "execute_result",
          "data": {
            "text/html": [
              "<div>\n",
              "<style scoped>\n",
              "    .dataframe tbody tr th:only-of-type {\n",
              "        vertical-align: middle;\n",
              "    }\n",
              "\n",
              "    .dataframe tbody tr th {\n",
              "        vertical-align: top;\n",
              "    }\n",
              "\n",
              "    .dataframe thead th {\n",
              "        text-align: right;\n",
              "    }\n",
              "</style>\n",
              "<table border=\"1\" class=\"dataframe\">\n",
              "  <thead>\n",
              "    <tr style=\"text-align: right;\">\n",
              "      <th></th>\n",
              "      <th>Userid</th>\n",
              "      <th>Songid</th>\n",
              "      <th>Freq</th>\n",
              "      <th>Trackid</th>\n",
              "      <th>ArtistName</th>\n",
              "      <th>Release</th>\n",
              "    </tr>\n",
              "  </thead>\n",
              "  <tbody>\n",
              "    <tr>\n",
              "      <th>440148</th>\n",
              "      <td>408c1e5c96efcb7166fae34b2a6ac0b81c956244</td>\n",
              "      <td>SOTHQRU12A58A78698</td>\n",
              "      <td>8.0</td>\n",
              "      <td>NaN</td>\n",
              "      <td>NaN</td>\n",
              "      <td>NaN</td>\n",
              "    </tr>\n",
              "    <tr>\n",
              "      <th>440149</th>\n",
              "      <td>408c1e5c96efcb7166fae34b2a6ac0b81c956244</td>\n",
              "      <td>SOBMYTR12A8C13B2D3</td>\n",
              "      <td>3.0</td>\n",
              "      <td>TRCKHHZ128F4289563</td>\n",
              "      <td>Café Tacvba</td>\n",
              "      <td>Las flores</td>\n",
              "    </tr>\n",
              "    <tr>\n",
              "      <th>440150</th>\n",
              "      <td>408c1e5c96efcb7166fae34b2a6ac0b81c956244</td>\n",
              "      <td>SOPUUQJ12AF72A5748</td>\n",
              "      <td>8.0</td>\n",
              "      <td>TRGXCED128F92D1428</td>\n",
              "      <td>Creedence Clearwater Revival</td>\n",
              "      <td>Susie Q</td>\n",
              "    </tr>\n",
              "    <tr>\n",
              "      <th>440151</th>\n",
              "      <td>408c1e5c96efcb7166fae34b2a6ac0b81c956244</td>\n",
              "      <td>SOJQCAO12AB0183B8A</td>\n",
              "      <td>8.0</td>\n",
              "      <td>NaN</td>\n",
              "      <td>NaN</td>\n",
              "      <td>NaN</td>\n",
              "    </tr>\n",
              "    <tr>\n",
              "      <th>440152</th>\n",
              "      <td>9eaedf5c861eb8ae71a5042</td>\n",
              "      <td>NaN</td>\n",
              "      <td>NaN</td>\n",
              "      <td>NaN</td>\n",
              "      <td>NaN</td>\n",
              "      <td>NaN</td>\n",
              "    </tr>\n",
              "  </tbody>\n",
              "</table>\n",
              "</div>"
            ],
            "text/plain": [
              "                                          Userid  ...     Release\n",
              "440148  408c1e5c96efcb7166fae34b2a6ac0b81c956244  ...         NaN\n",
              "440149  408c1e5c96efcb7166fae34b2a6ac0b81c956244  ...  Las flores\n",
              "440150  408c1e5c96efcb7166fae34b2a6ac0b81c956244  ...     Susie Q\n",
              "440151  408c1e5c96efcb7166fae34b2a6ac0b81c956244  ...         NaN\n",
              "440152                   9eaedf5c861eb8ae71a5042  ...         NaN\n",
              "\n",
              "[5 rows x 6 columns]"
            ]
          },
          "metadata": {
            "tags": []
          },
          "execution_count": 8
        }
      ]
    },
    {
      "cell_type": "markdown",
      "metadata": {
        "id": "BHNez9-YNZRt"
      },
      "source": [
        "Seaborn Plot to find if any null values.. Also using the isnull() and Sum() methods"
      ]
    },
    {
      "cell_type": "code",
      "metadata": {
        "id": "Z2XcdxKXEOTI",
        "colab": {
          "base_uri": "https://localhost:8080/",
          "height": 282
        },
        "outputId": "04370902-ee11-4fea-f82e-53417ed2938a"
      },
      "source": [
        "sns.heatmap(df_merge.isnull(),yticklabels=False,cbar=False)"
      ],
      "execution_count": 9,
      "outputs": [
        {
          "output_type": "execute_result",
          "data": {
            "text/plain": [
              "<matplotlib.axes._subplots.AxesSubplot at 0x7ff6e539f690>"
            ]
          },
          "metadata": {
            "tags": []
          },
          "execution_count": 9
        },
        {
          "output_type": "display_data",
          "data": {
            "image/png": "[encoded data removed]",
            "text/plain": [
              "<Figure size 432x288 with 1 Axes>"
            ]
          },
          "metadata": {
            "tags": [],
            "needs_background": "light"
          }
        }
      ]
    },
    {
      "cell_type": "code",
      "metadata": {
        "colab": {
          "base_uri": "https://localhost:8080/"
        },
        "id": "Uy8tK9JsJvUH",
        "outputId": "5efecf7e-e50a-4326-a4ed-99095dba45ea"
      },
      "source": [
        "df_merge.isnull().sum()"
      ],
      "execution_count": 10,
      "outputs": [
        {
          "output_type": "execute_result",
          "data": {
            "text/plain": [
              "Userid             0\n",
              "Songid             1\n",
              "Freq               1\n",
              "Trackid       287387\n",
              "ArtistName    287387\n",
              "Release       287387\n",
              "dtype: int64"
            ]
          },
          "metadata": {
            "tags": []
          },
          "execution_count": 10
        }
      ]
    },
    {
      "cell_type": "code",
      "metadata": {
        "id": "iMOMU1VJKImu"
      },
      "source": [
        "df_merge['Freq'].fillna(0,inplace=True)"
      ],
      "execution_count": 11,
      "outputs": []
    },
    {
      "cell_type": "code",
      "metadata": {
        "colab": {
          "base_uri": "https://localhost:8080/",
          "height": 203
        },
        "id": "oFT9dKieKVi4",
        "outputId": "16055fa2-ff6a-4aef-cbdb-a5bfa4b46271"
      },
      "source": [
        "df_merge.tail()"
      ],
      "execution_count": 12,
      "outputs": [
        {
          "output_type": "execute_result",
          "data": {
            "text/html": [
              "<div>\n",
              "<style scoped>\n",
              "    .dataframe tbody tr th:only-of-type {\n",
              "        vertical-align: middle;\n",
              "    }\n",
              "\n",
              "    .dataframe tbody tr th {\n",
              "        vertical-align: top;\n",
              "    }\n",
              "\n",
              "    .dataframe thead th {\n",
              "        text-align: right;\n",
              "    }\n",
              "</style>\n",
              "<table border=\"1\" class=\"dataframe\">\n",
              "  <thead>\n",
              "    <tr style=\"text-align: right;\">\n",
              "      <th></th>\n",
              "      <th>Userid</th>\n",
              "      <th>Songid</th>\n",
              "      <th>Freq</th>\n",
              "      <th>Trackid</th>\n",
              "      <th>ArtistName</th>\n",
              "      <th>Release</th>\n",
              "    </tr>\n",
              "  </thead>\n",
              "  <tbody>\n",
              "    <tr>\n",
              "      <th>440148</th>\n",
              "      <td>408c1e5c96efcb7166fae34b2a6ac0b81c956244</td>\n",
              "      <td>SOTHQRU12A58A78698</td>\n",
              "      <td>8.0</td>\n",
              "      <td>NaN</td>\n",
              "      <td>NaN</td>\n",
              "      <td>NaN</td>\n",
              "    </tr>\n",
              "    <tr>\n",
              "      <th>440149</th>\n",
              "      <td>408c1e5c96efcb7166fae34b2a6ac0b81c956244</td>\n",
              "      <td>SOBMYTR12A8C13B2D3</td>\n",
              "      <td>3.0</td>\n",
              "      <td>TRCKHHZ128F4289563</td>\n",
              "      <td>Café Tacvba</td>\n",
              "      <td>Las flores</td>\n",
              "    </tr>\n",
              "    <tr>\n",
              "      <th>440150</th>\n",
              "      <td>408c1e5c96efcb7166fae34b2a6ac0b81c956244</td>\n",
              "      <td>SOPUUQJ12AF72A5748</td>\n",
              "      <td>8.0</td>\n",
              "      <td>TRGXCED128F92D1428</td>\n",
              "      <td>Creedence Clearwater Revival</td>\n",
              "      <td>Susie Q</td>\n",
              "    </tr>\n",
              "    <tr>\n",
              "      <th>440151</th>\n",
              "      <td>408c1e5c96efcb7166fae34b2a6ac0b81c956244</td>\n",
              "      <td>SOJQCAO12AB0183B8A</td>\n",
              "      <td>8.0</td>\n",
              "      <td>NaN</td>\n",
              "      <td>NaN</td>\n",
              "      <td>NaN</td>\n",
              "    </tr>\n",
              "    <tr>\n",
              "      <th>440152</th>\n",
              "      <td>9eaedf5c861eb8ae71a5042</td>\n",
              "      <td>NaN</td>\n",
              "      <td>0.0</td>\n",
              "      <td>NaN</td>\n",
              "      <td>NaN</td>\n",
              "      <td>NaN</td>\n",
              "    </tr>\n",
              "  </tbody>\n",
              "</table>\n",
              "</div>"
            ],
            "text/plain": [
              "                                          Userid  ...     Release\n",
              "440148  408c1e5c96efcb7166fae34b2a6ac0b81c956244  ...         NaN\n",
              "440149  408c1e5c96efcb7166fae34b2a6ac0b81c956244  ...  Las flores\n",
              "440150  408c1e5c96efcb7166fae34b2a6ac0b81c956244  ...     Susie Q\n",
              "440151  408c1e5c96efcb7166fae34b2a6ac0b81c956244  ...         NaN\n",
              "440152                   9eaedf5c861eb8ae71a5042  ...         NaN\n",
              "\n",
              "[5 rows x 6 columns]"
            ]
          },
          "metadata": {
            "tags": []
          },
          "execution_count": 12
        }
      ]
    },
    {
      "cell_type": "markdown",
      "metadata": {
        "id": "fB5ESwlFSTYM"
      },
      "source": [
        "As the Song ID and the Track ID serve the same purpose we can drop any one"
      ]
    },
    {
      "cell_type": "code",
      "metadata": {
        "id": "QkkjiMM6L1md"
      },
      "source": [
        "df_merge.drop('Trackid',axis=1, inplace=True)"
      ],
      "execution_count": 13,
      "outputs": []
    },
    {
      "cell_type": "code",
      "metadata": {
        "colab": {
          "base_uri": "https://localhost:8080/",
          "height": 203
        },
        "id": "QzXqKDXsLUQf",
        "outputId": "117ddca9-a201-44bb-8886-37dade8c33b1"
      },
      "source": [
        "   df_merge.head()"
      ],
      "execution_count": 14,
      "outputs": [
        {
          "output_type": "execute_result",
          "data": {
            "text/html": [
              "<div>\n",
              "<style scoped>\n",
              "    .dataframe tbody tr th:only-of-type {\n",
              "        vertical-align: middle;\n",
              "    }\n",
              "\n",
              "    .dataframe tbody tr th {\n",
              "        vertical-align: top;\n",
              "    }\n",
              "\n",
              "    .dataframe thead th {\n",
              "        text-align: right;\n",
              "    }\n",
              "</style>\n",
              "<table border=\"1\" class=\"dataframe\">\n",
              "  <thead>\n",
              "    <tr style=\"text-align: right;\">\n",
              "      <th></th>\n",
              "      <th>Userid</th>\n",
              "      <th>Songid</th>\n",
              "      <th>Freq</th>\n",
              "      <th>ArtistName</th>\n",
              "      <th>Release</th>\n",
              "    </tr>\n",
              "  </thead>\n",
              "  <tbody>\n",
              "    <tr>\n",
              "      <th>0</th>\n",
              "      <td>fd50c4007b68a3737fe052d5a4f78ce8aa117f3d</td>\n",
              "      <td>SOBONKR12A58A7A7E0</td>\n",
              "      <td>1.0</td>\n",
              "      <td>NaN</td>\n",
              "      <td>NaN</td>\n",
              "    </tr>\n",
              "    <tr>\n",
              "      <th>1</th>\n",
              "      <td>fd50c4007b68a3737fe052d5a4f78ce8aa117f3d</td>\n",
              "      <td>SOEGIYH12A6D4FC0E3</td>\n",
              "      <td>1.0</td>\n",
              "      <td>NaN</td>\n",
              "      <td>NaN</td>\n",
              "    </tr>\n",
              "    <tr>\n",
              "      <th>2</th>\n",
              "      <td>fd50c4007b68a3737fe052d5a4f78ce8aa117f3d</td>\n",
              "      <td>SOFLJQZ12A6D4FADA6</td>\n",
              "      <td>1.0</td>\n",
              "      <td>NaN</td>\n",
              "      <td>NaN</td>\n",
              "    </tr>\n",
              "    <tr>\n",
              "      <th>3</th>\n",
              "      <td>fd50c4007b68a3737fe052d5a4f78ce8aa117f3d</td>\n",
              "      <td>SOHTKMO12AB01843B0</td>\n",
              "      <td>1.0</td>\n",
              "      <td>NaN</td>\n",
              "      <td>NaN</td>\n",
              "    </tr>\n",
              "    <tr>\n",
              "      <th>4</th>\n",
              "      <td>fd50c4007b68a3737fe052d5a4f78ce8aa117f3d</td>\n",
              "      <td>SODQZCY12A6D4F9D11</td>\n",
              "      <td>1.0</td>\n",
              "      <td>Miguel Calo</td>\n",
              "      <td>El Cuatrero</td>\n",
              "    </tr>\n",
              "  </tbody>\n",
              "</table>\n",
              "</div>"
            ],
            "text/plain": [
              "                                     Userid  ...      Release\n",
              "0  fd50c4007b68a3737fe052d5a4f78ce8aa117f3d  ...          NaN\n",
              "1  fd50c4007b68a3737fe052d5a4f78ce8aa117f3d  ...          NaN\n",
              "2  fd50c4007b68a3737fe052d5a4f78ce8aa117f3d  ...          NaN\n",
              "3  fd50c4007b68a3737fe052d5a4f78ce8aa117f3d  ...          NaN\n",
              "4  fd50c4007b68a3737fe052d5a4f78ce8aa117f3d  ...  El Cuatrero\n",
              "\n",
              "[5 rows x 5 columns]"
            ]
          },
          "metadata": {
            "tags": []
          },
          "execution_count": 14
        }
      ]
    },
    {
      "cell_type": "code",
      "metadata": {
        "colab": {
          "base_uri": "https://localhost:8080/"
        },
        "id": "i71kiG7xSu1i",
        "outputId": "fd8d38bd-f0f8-4040-b2d8-9e37374db888"
      },
      "source": [
        "df_merge.shape"
      ],
      "execution_count": 15,
      "outputs": [
        {
          "output_type": "execute_result",
          "data": {
            "text/plain": [
              "(440153, 5)"
            ]
          },
          "metadata": {
            "tags": []
          },
          "execution_count": 15
        }
      ]
    },
    {
      "cell_type": "code",
      "metadata": {
        "colab": {
          "base_uri": "https://localhost:8080/"
        },
        "id": "ihnvDigpSxXF",
        "outputId": "6639027f-1926-4aef-e113-be17b1955436"
      },
      "source": [
        "print(\"The Total Songs Listened are {}\".format(df_merge.shape[0]))\n",
        "print(\"The Total number of Users are {}\".format(df_merge['Userid'].nunique()))\n",
        "print(\"The Total number of Songs are {}\".format(df_merge['Songid'].nunique()))\n",
        "print(\"The Total number of Artists are {}\".format(df_merge['ArtistName'].nunique()))\n",
        "print(\"The Total number of Release are {}\".format(df_merge['Release'].nunique()))"
      ],
      "execution_count": 16,
      "outputs": [
        {
          "output_type": "stream",
          "text": [
            "The Total Songs Listened are 440153\n",
            "The Total number of Users are 33320\n",
            "The Total number of Songs are 95782\n",
            "The Total number of Artists are 12392\n",
            "The Total number of Release are 30140\n"
          ],
          "name": "stdout"
        }
      ]
    },
    {
      "cell_type": "markdown",
      "metadata": {
        "id": "oeM6tncKTqc9"
      },
      "source": [
        "# PDF Of Different Songs listened by the users\n",
        "\n",
        "\n",
        "\n",
        "\n"
      ]
    },
    {
      "cell_type": "code",
      "metadata": {
        "colab": {
          "base_uri": "https://localhost:8080/"
        },
        "id": "xb8x_fYMTDIS",
        "outputId": "1e4243bc-cd58-45a3-8db4-df7f11788101"
      },
      "source": [
        "df_merge['Userid'].value_counts()"
      ],
      "execution_count": 17,
      "outputs": [
        {
          "output_type": "execute_result",
          "data": {
            "text/plain": [
              "7d90be8dfdbde170f036ce8a4b915440137cb11c    53\n",
              "e08848e92427e9ef8add59a1264c484e1078d5a5    51\n",
              "7db2077964762a3889dd4d61444a8ba254b6365d    50\n",
              "dfadfaa39598cf760125439346d903ea0467e7fa    49\n",
              "1ef62350e380cd4400d1e9e502c283537ab0427b    49\n",
              "                                            ..\n",
              "3f1d4cfb589afdabec65fbdad11c0e06e96c563f     5\n",
              "ceb64203bd01f630f61b2efe85bd336cdc728151     5\n",
              "6e0ed5e38bd72d8ccbc08202979f710f8a421ace     5\n",
              "b93059f528b1cb18a40cd6d116a716b8f526e685     5\n",
              "9eaedf5c861eb8ae71a5042                      1\n",
              "Name: Userid, Length: 33320, dtype: int64"
            ]
          },
          "metadata": {
            "tags": []
          },
          "execution_count": 17
        }
      ]
    },
    {
      "cell_type": "code",
      "metadata": {
        "colab": {
          "base_uri": "https://localhost:8080/",
          "height": 282
        },
        "id": "_EpttHvyL2b7",
        "outputId": "ad41a033-4f06-4ef9-ea04-58ed29c3a0f1"
      },
      "source": [
        "df_merge['Userid'].value_counts().plot.kde()"
      ],
      "execution_count": 18,
      "outputs": [
        {
          "output_type": "execute_result",
          "data": {
            "text/plain": [
              "<matplotlib.axes._subplots.AxesSubplot at 0x7ff6e4fdc490>"
            ]
          },
          "metadata": {
            "tags": []
          },
          "execution_count": 18
        },
        {
          "output_type": "display_data",
          "data": {
            "image/png": "[encoded data removed]",
            "text/plain": [
              "<Figure size 432x288 with 1 Axes>"
            ]
          },
          "metadata": {
            "tags": [],
            "needs_background": "light"
          }
        }
      ]
    },
    {
      "cell_type": "code",
      "metadata": {
        "colab": {
          "base_uri": "https://localhost:8080/"
        },
        "id": "1xktOF54uYnt",
        "outputId": "ac526dd3-cd4d-4238-a11d-9b461ba6e68f"
      },
      "source": [
        "df_merge['Userid'].value_counts().describe()"
      ],
      "execution_count": 19,
      "outputs": [
        {
          "output_type": "execute_result",
          "data": {
            "text/plain": [
              "count    33320.000000\n",
              "mean        13.209874\n",
              "std          8.084912\n",
              "min          1.000000\n",
              "25%          7.000000\n",
              "50%         11.000000\n",
              "75%         17.000000\n",
              "max         53.000000\n",
              "Name: Userid, dtype: float64"
            ]
          },
          "metadata": {
            "tags": []
          },
          "execution_count": 19
        }
      ]
    },
    {
      "cell_type": "code",
      "metadata": {
        "colab": {
          "base_uri": "https://localhost:8080/",
          "height": 555
        },
        "id": "058NSvdB-95e",
        "outputId": "e6cf576c-1333-4bc2-dbc1-dfa26e97c46e"
      },
      "source": [
        "sns.set_style('whitegrid')\n",
        "sns.countplot(x='Userid',data=df_merge,order=df_merge['Userid'].value_counts().iloc[:10].index)\n",
        "plt.xticks(rotation=90)\n",
        "plt.title(\"Top 10 users that listned more distinct songs\")"
      ],
      "execution_count": 20,
      "outputs": [
        {
          "output_type": "execute_result",
          "data": {
            "text/plain": [
              "Text(0.5, 1.0, 'Top 10 users that listned more distinct songs')"
            ]
          },
          "metadata": {
            "tags": []
          },
          "execution_count": 20
        },
        {
          "output_type": "display_data",
          "data": {
            "image/png": "[encoded data removed]",
            "text/plain": [
              "<Figure size 432x288 with 1 Axes>"
            ]
          },
          "metadata": {
            "tags": []
          }
        }
      ]
    },
    {
      "cell_type": "markdown",
      "metadata": {
        "id": "EQZWadbUb3HA"
      },
      "source": [
        "# Top 5 users with maximum listens"
      ]
    },
    {
      "cell_type": "markdown",
      "metadata": {
        "id": "NMTCBaqnIv8H"
      },
      "source": [
        "Below are the Top five Users, that listned the Songs Most"
      ]
    },
    {
      "cell_type": "code",
      "metadata": {
        "colab": {
          "base_uri": "https://localhost:8080/",
          "height": 234
        },
        "id": "l5a5JpjQHm0v",
        "outputId": "65222815-0067-4268-e56d-bc40b7e6673a"
      },
      "source": [
        "df_merge[['Userid','Freq']].groupby(['Userid'],sort=True).sum().sort_values(['Freq'], ascending=False).head(5)"
      ],
      "execution_count": 21,
      "outputs": [
        {
          "output_type": "execute_result",
          "data": {
            "text/html": [
              "<div>\n",
              "<style scoped>\n",
              "    .dataframe tbody tr th:only-of-type {\n",
              "        vertical-align: middle;\n",
              "    }\n",
              "\n",
              "    .dataframe tbody tr th {\n",
              "        vertical-align: top;\n",
              "    }\n",
              "\n",
              "    .dataframe thead th {\n",
              "        text-align: right;\n",
              "    }\n",
              "</style>\n",
              "<table border=\"1\" class=\"dataframe\">\n",
              "  <thead>\n",
              "    <tr style=\"text-align: right;\">\n",
              "      <th></th>\n",
              "      <th>Freq</th>\n",
              "    </tr>\n",
              "    <tr>\n",
              "      <th>Userid</th>\n",
              "      <th></th>\n",
              "    </tr>\n",
              "  </thead>\n",
              "  <tbody>\n",
              "    <tr>\n",
              "      <th>c6150292374fb1dad89982367b3245dd5004c718</th>\n",
              "      <td>1192.0</td>\n",
              "    </tr>\n",
              "    <tr>\n",
              "      <th>315103a41c2ced1143de0c2ba20de224800e6d89</th>\n",
              "      <td>1148.0</td>\n",
              "    </tr>\n",
              "    <tr>\n",
              "      <th>b51eeda3c09e2426f2e52dca8444a8c0cab6265a</th>\n",
              "      <td>1119.0</td>\n",
              "    </tr>\n",
              "    <tr>\n",
              "      <th>9d12c30de5d9975f621f95f512699989ac544410</th>\n",
              "      <td>1001.0</td>\n",
              "    </tr>\n",
              "    <tr>\n",
              "      <th>4bacaff23c6edf0cdec81b2a71e0b01df9341734</th>\n",
              "      <td>852.0</td>\n",
              "    </tr>\n",
              "  </tbody>\n",
              "</table>\n",
              "</div>"
            ],
            "text/plain": [
              "                                            Freq\n",
              "Userid                                          \n",
              "c6150292374fb1dad89982367b3245dd5004c718  1192.0\n",
              "315103a41c2ced1143de0c2ba20de224800e6d89  1148.0\n",
              "b51eeda3c09e2426f2e52dca8444a8c0cab6265a  1119.0\n",
              "9d12c30de5d9975f621f95f512699989ac544410  1001.0\n",
              "4bacaff23c6edf0cdec81b2a71e0b01df9341734   852.0"
            ]
          },
          "metadata": {
            "tags": []
          },
          "execution_count": 21
        }
      ]
    },
    {
      "cell_type": "code",
      "metadata": {
        "colab": {
          "base_uri": "https://localhost:8080/",
          "height": 295
        },
        "id": "wXqoqbkNuzHQ",
        "outputId": "5d45215d-e47b-42b7-8446-f014de079f61"
      },
      "source": [
        "df_merge[['Userid','Freq']].groupby(['Userid'],sort=True).sum().sort_values(['Freq'], ascending=False).head(5).describe()"
      ],
      "execution_count": 22,
      "outputs": [
        {
          "output_type": "execute_result",
          "data": {
            "text/html": [
              "<div>\n",
              "<style scoped>\n",
              "    .dataframe tbody tr th:only-of-type {\n",
              "        vertical-align: middle;\n",
              "    }\n",
              "\n",
              "    .dataframe tbody tr th {\n",
              "        vertical-align: top;\n",
              "    }\n",
              "\n",
              "    .dataframe thead th {\n",
              "        text-align: right;\n",
              "    }\n",
              "</style>\n",
              "<table border=\"1\" class=\"dataframe\">\n",
              "  <thead>\n",
              "    <tr style=\"text-align: right;\">\n",
              "      <th></th>\n",
              "      <th>Freq</th>\n",
              "    </tr>\n",
              "  </thead>\n",
              "  <tbody>\n",
              "    <tr>\n",
              "      <th>count</th>\n",
              "      <td>5.000000</td>\n",
              "    </tr>\n",
              "    <tr>\n",
              "      <th>mean</th>\n",
              "      <td>1062.400000</td>\n",
              "    </tr>\n",
              "    <tr>\n",
              "      <th>std</th>\n",
              "      <td>137.263615</td>\n",
              "    </tr>\n",
              "    <tr>\n",
              "      <th>min</th>\n",
              "      <td>852.000000</td>\n",
              "    </tr>\n",
              "    <tr>\n",
              "      <th>25%</th>\n",
              "      <td>1001.000000</td>\n",
              "    </tr>\n",
              "    <tr>\n",
              "      <th>50%</th>\n",
              "      <td>1119.000000</td>\n",
              "    </tr>\n",
              "    <tr>\n",
              "      <th>75%</th>\n",
              "      <td>1148.000000</td>\n",
              "    </tr>\n",
              "    <tr>\n",
              "      <th>max</th>\n",
              "      <td>1192.000000</td>\n",
              "    </tr>\n",
              "  </tbody>\n",
              "</table>\n",
              "</div>"
            ],
            "text/plain": [
              "              Freq\n",
              "count     5.000000\n",
              "mean   1062.400000\n",
              "std     137.263615\n",
              "min     852.000000\n",
              "25%    1001.000000\n",
              "50%    1119.000000\n",
              "75%    1148.000000\n",
              "max    1192.000000"
            ]
          },
          "metadata": {
            "tags": []
          },
          "execution_count": 22
        }
      ]
    },
    {
      "cell_type": "markdown",
      "metadata": {
        "id": "jLPUUEXZHmWz"
      },
      "source": [
        ""
      ]
    },
    {
      "cell_type": "code",
      "metadata": {
        "colab": {
          "base_uri": "https://localhost:8080/",
          "height": 551
        },
        "id": "Ahx19fUe_kGS",
        "outputId": "ce428d64-3f3a-4345-ede4-09d1ee3524be"
      },
      "source": [
        "data=df_merge.groupby(['Userid'],sort=True).sum()\n",
        "data=data.reset_index()\n",
        "sns.barplot(x='Userid',y='Freq',data=data,   order=data.sort_values(['Freq'],ascending=False)['Userid'].iloc[:10])\n",
        "plt.xticks(rotation=90)\n",
        "plt.title(\"Top 10 Users that listned the Song more\")"
      ],
      "execution_count": 23,
      "outputs": [
        {
          "output_type": "execute_result",
          "data": {
            "text/plain": [
              "Text(0.5, 1.0, 'Top 10 Users that listned the Song more')"
            ]
          },
          "metadata": {
            "tags": []
          },
          "execution_count": 23
        },
        {
          "output_type": "display_data",
          "data": {
            "image/png": "[encoded data removed]",
            "text/plain": [
              "<Figure size 432x288 with 1 Axes>"
            ]
          },
          "metadata": {
            "tags": []
          }
        }
      ]
    },
    {
      "cell_type": "markdown",
      "metadata": {
        "id": "X0k9Z9LXcWI5"
      },
      "source": [
        "# Last 5 users with minimum listens"
      ]
    },
    {
      "cell_type": "markdown",
      "metadata": {
        "id": "Qev5bnMLXyIw"
      },
      "source": [
        "Below are the Least Five Users that listned the Song less"
      ]
    },
    {
      "cell_type": "code",
      "metadata": {
        "colab": {
          "base_uri": "https://localhost:8080/",
          "height": 234
        },
        "id": "jFygb0xuWkbo",
        "outputId": "4b4daf3f-8a5d-4ef4-d068-4b26ed736adf"
      },
      "source": [
        "df_merge[['Userid','Freq']].groupby(['Userid'],sort=True).sum().sort_values(['Freq'], ascending=True).head(5)"
      ],
      "execution_count": 24,
      "outputs": [
        {
          "output_type": "execute_result",
          "data": {
            "text/html": [
              "<div>\n",
              "<style scoped>\n",
              "    .dataframe tbody tr th:only-of-type {\n",
              "        vertical-align: middle;\n",
              "    }\n",
              "\n",
              "    .dataframe tbody tr th {\n",
              "        vertical-align: top;\n",
              "    }\n",
              "\n",
              "    .dataframe thead th {\n",
              "        text-align: right;\n",
              "    }\n",
              "</style>\n",
              "<table border=\"1\" class=\"dataframe\">\n",
              "  <thead>\n",
              "    <tr style=\"text-align: right;\">\n",
              "      <th></th>\n",
              "      <th>Freq</th>\n",
              "    </tr>\n",
              "    <tr>\n",
              "      <th>Userid</th>\n",
              "      <th></th>\n",
              "    </tr>\n",
              "  </thead>\n",
              "  <tbody>\n",
              "    <tr>\n",
              "      <th>9eaedf5c861eb8ae71a5042</th>\n",
              "      <td>0.0</td>\n",
              "    </tr>\n",
              "    <tr>\n",
              "      <th>77812cc778c4c6c6eb65d937f527c12097299c74</th>\n",
              "      <td>5.0</td>\n",
              "    </tr>\n",
              "    <tr>\n",
              "      <th>95b836df5c449b275c24f1d5fce1ddf9b8cbb4ca</th>\n",
              "      <td>5.0</td>\n",
              "    </tr>\n",
              "    <tr>\n",
              "      <th>0638751d744e71957964759d9f39faac8daab960</th>\n",
              "      <td>5.0</td>\n",
              "    </tr>\n",
              "    <tr>\n",
              "      <th>eb062206b6e4b0d33a707b580138098e0b124870</th>\n",
              "      <td>5.0</td>\n",
              "    </tr>\n",
              "  </tbody>\n",
              "</table>\n",
              "</div>"
            ],
            "text/plain": [
              "                                          Freq\n",
              "Userid                                        \n",
              "9eaedf5c861eb8ae71a5042                    0.0\n",
              "77812cc778c4c6c6eb65d937f527c12097299c74   5.0\n",
              "95b836df5c449b275c24f1d5fce1ddf9b8cbb4ca   5.0\n",
              "0638751d744e71957964759d9f39faac8daab960   5.0\n",
              "eb062206b6e4b0d33a707b580138098e0b124870   5.0"
            ]
          },
          "metadata": {
            "tags": []
          },
          "execution_count": 24
        }
      ]
    },
    {
      "cell_type": "code",
      "metadata": {
        "colab": {
          "base_uri": "https://localhost:8080/",
          "height": 554
        },
        "id": "2aV8chISHxQh",
        "outputId": "91a5019d-52b5-4279-b975-66b3d5ab660f"
      },
      "source": [
        "data=df_merge.groupby(['Userid'],sort=True).sum()\n",
        "data=data.reset_index()\n",
        "sns.barplot(x='Userid',y='Freq',data=data,   order=data.sort_values(['Freq'],ascending=True)['Userid'].iloc[:10])\n",
        "plt.xticks(rotation=90)"
      ],
      "execution_count": 25,
      "outputs": [
        {
          "output_type": "execute_result",
          "data": {
            "text/plain": [
              "(array([0, 1, 2, 3, 4, 5, 6, 7, 8, 9]),\n",
              " <a list of 10 Text major ticklabel objects>)"
            ]
          },
          "metadata": {
            "tags": []
          },
          "execution_count": 25
        },
        {
          "output_type": "display_data",
          "data": {
            "image/png": "[encoded data removed]",
            "text/plain": [
              "<Figure size 432x288 with 1 Axes>"
            ]
          },
          "metadata": {
            "tags": []
          }
        }
      ]
    },
    {
      "cell_type": "markdown",
      "metadata": {
        "id": "OPvIE9KIeN0J"
      },
      "source": [
        ""
      ]
    },
    {
      "cell_type": "markdown",
      "metadata": {
        "id": "kaUuwmv3d_eP"
      },
      "source": [
        "# Popularity of Songs"
      ]
    },
    {
      "cell_type": "markdown",
      "metadata": {
        "id": "3Q38xfmrbx2Z"
      },
      "source": [
        "most listened songs"
      ]
    },
    {
      "cell_type": "code",
      "metadata": {
        "colab": {
          "base_uri": "https://localhost:8080/",
          "height": 203
        },
        "id": "BkGjlRJYOXTA",
        "outputId": "6b645a03-6d95-41ca-9c47-d5aba0bb8df8"
      },
      "source": [
        "df_merge[['Userid','Songid']].groupby(['Songid'])['Songid'].count().reset_index(name='count').sort_values(['count'], ascending=False).head(5)"
      ],
      "execution_count": 26,
      "outputs": [
        {
          "output_type": "execute_result",
          "data": {
            "text/html": [
              "<div>\n",
              "<style scoped>\n",
              "    .dataframe tbody tr th:only-of-type {\n",
              "        vertical-align: middle;\n",
              "    }\n",
              "\n",
              "    .dataframe tbody tr th {\n",
              "        vertical-align: top;\n",
              "    }\n",
              "\n",
              "    .dataframe thead th {\n",
              "        text-align: right;\n",
              "    }\n",
              "</style>\n",
              "<table border=\"1\" class=\"dataframe\">\n",
              "  <thead>\n",
              "    <tr style=\"text-align: right;\">\n",
              "      <th></th>\n",
              "      <th>Songid</th>\n",
              "      <th>count</th>\n",
              "    </tr>\n",
              "  </thead>\n",
              "  <tbody>\n",
              "    <tr>\n",
              "      <th>22401</th>\n",
              "      <td>SOFRQTD12A81C233C0</td>\n",
              "      <td>1523</td>\n",
              "    </tr>\n",
              "    <tr>\n",
              "      <th>3231</th>\n",
              "      <td>SOAUWYT12A81C206F1</td>\n",
              "      <td>1377</td>\n",
              "    </tr>\n",
              "    <tr>\n",
              "      <th>6125</th>\n",
              "      <td>SOBONKR12A58A7A7E0</td>\n",
              "      <td>1287</td>\n",
              "    </tr>\n",
              "    <tr>\n",
              "      <th>71355</th>\n",
              "      <td>SOSXLTC12AF72A7F54</td>\n",
              "      <td>1161</td>\n",
              "    </tr>\n",
              "    <tr>\n",
              "      <th>3600</th>\n",
              "      <td>SOAXGDH12A8C13F8A1</td>\n",
              "      <td>1135</td>\n",
              "    </tr>\n",
              "  </tbody>\n",
              "</table>\n",
              "</div>"
            ],
            "text/plain": [
              "                   Songid  count\n",
              "22401  SOFRQTD12A81C233C0   1523\n",
              "3231   SOAUWYT12A81C206F1   1377\n",
              "6125   SOBONKR12A58A7A7E0   1287\n",
              "71355  SOSXLTC12AF72A7F54   1161\n",
              "3600   SOAXGDH12A8C13F8A1   1135"
            ]
          },
          "metadata": {
            "tags": []
          },
          "execution_count": 26
        }
      ]
    },
    {
      "cell_type": "code",
      "metadata": {
        "colab": {
          "base_uri": "https://localhost:8080/",
          "height": 426
        },
        "id": "_DhnOMq9Zgnb",
        "outputId": "eaac0343-7088-46be-97a4-1addfd4aa861"
      },
      "source": [
        "data =df_merge[['Userid','Songid']].groupby(['Songid'])['Songid'].count().reset_index(name='count').sort_values(['count'], ascending=False).head(10)\n",
        "sns.barplot(x='Songid',y='count',data=data)\n",
        "plt.xticks(rotation=90)"
      ],
      "execution_count": 27,
      "outputs": [
        {
          "output_type": "execute_result",
          "data": {
            "text/plain": [
              "(array([0, 1, 2, 3, 4, 5, 6, 7, 8, 9]),\n",
              " <a list of 10 Text major ticklabel objects>)"
            ]
          },
          "metadata": {
            "tags": []
          },
          "execution_count": 27
        },
        {
          "output_type": "display_data",
          "data": {
            "image/png": "[encoded data removed]",
            "text/plain": [
              "<Figure size 432x288 with 1 Axes>"
            ]
          },
          "metadata": {
            "tags": []
          }
        }
      ]
    },
    {
      "cell_type": "code",
      "metadata": {
        "id": "InUCIBJMefKf"
      },
      "source": [
        "song_popularity=df_merge['Songid'].value_counts()"
      ],
      "execution_count": 28,
      "outputs": []
    },
    {
      "cell_type": "code",
      "metadata": {
        "colab": {
          "base_uri": "https://localhost:8080/"
        },
        "id": "fqCgzBFyenOb",
        "outputId": "2f9eaf52-6bbf-4d5e-876e-d27a0a4b569c"
      },
      "source": [
        "song_popularity"
      ],
      "execution_count": 29,
      "outputs": [
        {
          "output_type": "execute_result",
          "data": {
            "text/plain": [
              "SOFRQTD12A81C233C0    1523\n",
              "SOAUWYT12A81C206F1    1377\n",
              "SOBONKR12A58A7A7E0    1287\n",
              "SOSXLTC12AF72A7F54    1161\n",
              "SOAXGDH12A8C13F8A1    1135\n",
              "                      ... \n",
              "SOYUVYU12AB018156B       1\n",
              "SOASONL12A6D4FB69F       1\n",
              "SOTSRJV12A6D4F5241       1\n",
              "SOEKGAJ12AC46882E6       1\n",
              "SOFBDQB12A8C13E0A3       1\n",
              "Name: Songid, Length: 95782, dtype: int64"
            ]
          },
          "metadata": {
            "tags": []
          },
          "execution_count": 29
        }
      ]
    },
    {
      "cell_type": "code",
      "metadata": {
        "colab": {
          "base_uri": "https://localhost:8080/",
          "height": 296
        },
        "id": "rs0Up4okewyk",
        "outputId": "90c13437-fe72-4eb0-8731-85c13cd189a9"
      },
      "source": [
        "sns.distplot(song_popularity, hist=True, kde=True)"
      ],
      "execution_count": 30,
      "outputs": [
        {
          "output_type": "execute_result",
          "data": {
            "text/plain": [
              "<matplotlib.axes._subplots.AxesSubplot at 0x7ff6e4a11690>"
            ]
          },
          "metadata": {
            "tags": []
          },
          "execution_count": 30
        },
        {
          "output_type": "display_data",
          "data": {
            "image/png": "[encoded data removed]",
            "text/plain": [
              "<Figure size 432x288 with 1 Axes>"
            ]
          },
          "metadata": {
            "tags": []
          }
        }
      ]
    },
    {
      "cell_type": "markdown",
      "metadata": {
        "id": "i6Z0M-S2b7OA"
      },
      "source": [
        "Below are the Last Five Least Listned Songs"
      ]
    },
    {
      "cell_type": "code",
      "metadata": {
        "colab": {
          "base_uri": "https://localhost:8080/",
          "height": 203
        },
        "id": "a9dD_DvoYERa",
        "outputId": "b500b230-431d-4724-f03e-660fee4834b6"
      },
      "source": [
        "df_merge[['Userid','Songid']].groupby(['Songid'])['Songid'].count().reset_index(name='count').sort_values(['count'], ascending=True).head(5)"
      ],
      "execution_count": 31,
      "outputs": [
        {
          "output_type": "execute_result",
          "data": {
            "text/html": [
              "<div>\n",
              "<style scoped>\n",
              "    .dataframe tbody tr th:only-of-type {\n",
              "        vertical-align: middle;\n",
              "    }\n",
              "\n",
              "    .dataframe tbody tr th {\n",
              "        vertical-align: top;\n",
              "    }\n",
              "\n",
              "    .dataframe thead th {\n",
              "        text-align: right;\n",
              "    }\n",
              "</style>\n",
              "<table border=\"1\" class=\"dataframe\">\n",
              "  <thead>\n",
              "    <tr style=\"text-align: right;\">\n",
              "      <th></th>\n",
              "      <th>Songid</th>\n",
              "      <th>count</th>\n",
              "    </tr>\n",
              "  </thead>\n",
              "  <tbody>\n",
              "    <tr>\n",
              "      <th>95781</th>\n",
              "      <td>SOZZZRV12A8C1361F1</td>\n",
              "      <td>1</td>\n",
              "    </tr>\n",
              "    <tr>\n",
              "      <th>35176</th>\n",
              "      <td>SOJAIET12A58A79736</td>\n",
              "      <td>1</td>\n",
              "    </tr>\n",
              "    <tr>\n",
              "      <th>35177</th>\n",
              "      <td>SOJAIHU12A8C138C28</td>\n",
              "      <td>1</td>\n",
              "    </tr>\n",
              "    <tr>\n",
              "      <th>69440</th>\n",
              "      <td>SOSJMQM12A58A7CEE7</td>\n",
              "      <td>1</td>\n",
              "    </tr>\n",
              "    <tr>\n",
              "      <th>35179</th>\n",
              "      <td>SOJAITZ12AB0183618</td>\n",
              "      <td>1</td>\n",
              "    </tr>\n",
              "  </tbody>\n",
              "</table>\n",
              "</div>"
            ],
            "text/plain": [
              "                   Songid  count\n",
              "95781  SOZZZRV12A8C1361F1      1\n",
              "35176  SOJAIET12A58A79736      1\n",
              "35177  SOJAIHU12A8C138C28      1\n",
              "69440  SOSJMQM12A58A7CEE7      1\n",
              "35179  SOJAITZ12AB0183618      1"
            ]
          },
          "metadata": {
            "tags": []
          },
          "execution_count": 31
        }
      ]
    },
    {
      "cell_type": "code",
      "metadata": {
        "colab": {
          "base_uri": "https://localhost:8080/",
          "height": 422
        },
        "id": "0pD2WrhfJNpf",
        "outputId": "2a83cc39-bbc3-4c60-bc54-23093f61fe3c"
      },
      "source": [
        "data =df_merge[['Userid','Songid']].groupby(['Songid'])['Songid'].count().reset_index(name='count').sort_values(['count'], ascending=True).head(10)\n",
        "sns.barplot(x='Songid',y='count',data=data)\n",
        "plt.xticks(rotation=90)"
      ],
      "execution_count": 32,
      "outputs": [
        {
          "output_type": "execute_result",
          "data": {
            "text/plain": [
              "(array([0, 1, 2, 3, 4, 5, 6, 7, 8, 9]),\n",
              " <a list of 10 Text major ticklabel objects>)"
            ]
          },
          "metadata": {
            "tags": []
          },
          "execution_count": 32
        },
        {
          "output_type": "display_data",
          "data": {
            "image/png": "[encoded data removed]",
            "text/plain": [
              "<Figure size 432x288 with 1 Axes>"
            ]
          },
          "metadata": {
            "tags": []
          }
        }
      ]
    },
    {
      "cell_type": "markdown",
      "metadata": {
        "id": "BAMf9_44F8yP"
      },
      "source": [
        "## Users with maximum no. of repeats for a particular song"
      ]
    },
    {
      "cell_type": "code",
      "metadata": {
        "colab": {
          "base_uri": "https://localhost:8080/",
          "height": 417
        },
        "id": "sd0NqrewcAHY",
        "outputId": "545df6ee-3156-4393-9e12-b715e5d5dc52"
      },
      "source": [
        "df_merge[['Userid','Songid','Freq']].sort_values(['Freq'],ascending=False)"
      ],
      "execution_count": 33,
      "outputs": [
        {
          "output_type": "execute_result",
          "data": {
            "text/html": [
              "<div>\n",
              "<style scoped>\n",
              "    .dataframe tbody tr th:only-of-type {\n",
              "        vertical-align: middle;\n",
              "    }\n",
              "\n",
              "    .dataframe tbody tr th {\n",
              "        vertical-align: top;\n",
              "    }\n",
              "\n",
              "    .dataframe thead th {\n",
              "        text-align: right;\n",
              "    }\n",
              "</style>\n",
              "<table border=\"1\" class=\"dataframe\">\n",
              "  <thead>\n",
              "    <tr style=\"text-align: right;\">\n",
              "      <th></th>\n",
              "      <th>Userid</th>\n",
              "      <th>Songid</th>\n",
              "      <th>Freq</th>\n",
              "    </tr>\n",
              "  </thead>\n",
              "  <tbody>\n",
              "    <tr>\n",
              "      <th>364711</th>\n",
              "      <td>9d12c30de5d9975f621f95f512699989ac544410</td>\n",
              "      <td>SOFFXAQ12A8AE45C2E</td>\n",
              "      <td>535.0</td>\n",
              "    </tr>\n",
              "    <tr>\n",
              "      <th>178919</th>\n",
              "      <td>fa82c0a1a93b7c52870d7b0a004b444bbdf19401</td>\n",
              "      <td>SOCNAXF12A6D4F9B34</td>\n",
              "      <td>500.0</td>\n",
              "    </tr>\n",
              "    <tr>\n",
              "      <th>124979</th>\n",
              "      <td>388f7b7150bd020ce59b82603f7dd29f590ff8ed</td>\n",
              "      <td>SORJSQI12A6701D62D</td>\n",
              "      <td>478.0</td>\n",
              "    </tr>\n",
              "    <tr>\n",
              "      <th>186922</th>\n",
              "      <td>fbda29133162e205279fd1c49119ea0a28c163c1</td>\n",
              "      <td>SODWONG12A8C1421B3</td>\n",
              "      <td>476.0</td>\n",
              "    </tr>\n",
              "    <tr>\n",
              "      <th>83092</th>\n",
              "      <td>a72d150c16341e1849c40226eb0d322cadcf050d</td>\n",
              "      <td>SODCNEE12A6310E037</td>\n",
              "      <td>450.0</td>\n",
              "    </tr>\n",
              "    <tr>\n",
              "      <th>...</th>\n",
              "      <td>...</td>\n",
              "      <td>...</td>\n",
              "      <td>...</td>\n",
              "    </tr>\n",
              "    <tr>\n",
              "      <th>186245</th>\n",
              "      <td>d285fa271d5fe1d79a201d09fe99abd8f2971578</td>\n",
              "      <td>SOQCOII12A6D4F9216</td>\n",
              "      <td>1.0</td>\n",
              "    </tr>\n",
              "    <tr>\n",
              "      <th>186243</th>\n",
              "      <td>d285fa271d5fe1d79a201d09fe99abd8f2971578</td>\n",
              "      <td>SODKJWI12A8151BD74</td>\n",
              "      <td>1.0</td>\n",
              "    </tr>\n",
              "    <tr>\n",
              "      <th>186241</th>\n",
              "      <td>d285fa271d5fe1d79a201d09fe99abd8f2971578</td>\n",
              "      <td>SOSNYHM12A67ADAFC8</td>\n",
              "      <td>1.0</td>\n",
              "    </tr>\n",
              "    <tr>\n",
              "      <th>186240</th>\n",
              "      <td>d285fa271d5fe1d79a201d09fe99abd8f2971578</td>\n",
              "      <td>SONUPZD12A8C13981F</td>\n",
              "      <td>1.0</td>\n",
              "    </tr>\n",
              "    <tr>\n",
              "      <th>440152</th>\n",
              "      <td>9eaedf5c861eb8ae71a5042</td>\n",
              "      <td>NaN</td>\n",
              "      <td>0.0</td>\n",
              "    </tr>\n",
              "  </tbody>\n",
              "</table>\n",
              "<p>440153 rows × 3 columns</p>\n",
              "</div>"
            ],
            "text/plain": [
              "                                          Userid              Songid   Freq\n",
              "364711  9d12c30de5d9975f621f95f512699989ac544410  SOFFXAQ12A8AE45C2E  535.0\n",
              "178919  fa82c0a1a93b7c52870d7b0a004b444bbdf19401  SOCNAXF12A6D4F9B34  500.0\n",
              "124979  388f7b7150bd020ce59b82603f7dd29f590ff8ed  SORJSQI12A6701D62D  478.0\n",
              "186922  fbda29133162e205279fd1c49119ea0a28c163c1  SODWONG12A8C1421B3  476.0\n",
              "83092   a72d150c16341e1849c40226eb0d322cadcf050d  SODCNEE12A6310E037  450.0\n",
              "...                                          ...                 ...    ...\n",
              "186245  d285fa271d5fe1d79a201d09fe99abd8f2971578  SOQCOII12A6D4F9216    1.0\n",
              "186243  d285fa271d5fe1d79a201d09fe99abd8f2971578  SODKJWI12A8151BD74    1.0\n",
              "186241  d285fa271d5fe1d79a201d09fe99abd8f2971578  SOSNYHM12A67ADAFC8    1.0\n",
              "186240  d285fa271d5fe1d79a201d09fe99abd8f2971578  SONUPZD12A8C13981F    1.0\n",
              "440152                   9eaedf5c861eb8ae71a5042                 NaN    0.0\n",
              "\n",
              "[440153 rows x 3 columns]"
            ]
          },
          "metadata": {
            "tags": []
          },
          "execution_count": 33
        }
      ]
    },
    {
      "cell_type": "markdown",
      "metadata": {
        "id": "pn9K1QMog9yw"
      },
      "source": [
        "# Most Popular Artists"
      ]
    },
    {
      "cell_type": "code",
      "metadata": {
        "colab": {
          "base_uri": "https://localhost:8080/"
        },
        "id": "b6syRH-mhYJP",
        "outputId": "3c04dabe-2320-4cfe-eaa8-24eaabbd4cd8"
      },
      "source": [
        "df_merge['ArtistName'].value_counts().sort_values()"
      ],
      "execution_count": 34,
      "outputs": [
        {
          "output_type": "execute_result",
          "data": {
            "text/plain": [
              "Richi M.                     1\n",
              "Molella                      1\n",
              "Weinland                     1\n",
              "Daniele Sepe                 1\n",
              "Agnelli & Nelson             1\n",
              "                          ... \n",
              "Alliance Ethnik           1205\n",
              "Coldplay                  1417\n",
              "Justin Bieber             1445\n",
              "Björk                     1493\n",
              "Florence + The Machine    2210\n",
              "Name: ArtistName, Length: 12392, dtype: int64"
            ]
          },
          "metadata": {
            "tags": []
          },
          "execution_count": 34
        }
      ]
    },
    {
      "cell_type": "code",
      "metadata": {
        "id": "2kdjpV6rhhMF"
      },
      "source": [
        "popularity_artist=df_merge['ArtistName'].value_counts().sort_values()"
      ],
      "execution_count": 35,
      "outputs": []
    },
    {
      "cell_type": "code",
      "metadata": {
        "colab": {
          "base_uri": "https://localhost:8080/",
          "height": 296
        },
        "id": "VDq53BOchm_p",
        "outputId": "a3bc698a-3f22-40ca-93ab-64d81b4f1bc1"
      },
      "source": [
        "sns.kdeplot(popularity_artist)"
      ],
      "execution_count": 36,
      "outputs": [
        {
          "output_type": "execute_result",
          "data": {
            "text/plain": [
              "<matplotlib.axes._subplots.AxesSubplot at 0x7ff6e4736c10>"
            ]
          },
          "metadata": {
            "tags": []
          },
          "execution_count": 36
        },
        {
          "output_type": "display_data",
          "data": {
            "image/png": "[encoded data removed]",
            "text/plain": [
              "<Figure size 432x288 with 1 Axes>"
            ]
          },
          "metadata": {
            "tags": []
          }
        }
      ]
    },
    {
      "cell_type": "code",
      "metadata": {
        "colab": {
          "base_uri": "https://localhost:8080/",
          "height": 234
        },
        "id": "CBaHZYush0_E",
        "outputId": "3a024183-17b1-4857-aa99-2ec1526ee2f3"
      },
      "source": [
        "df_merge[['ArtistName','Songid']].groupby('ArtistName').count().sort_values('Songid',ascending= False).head()"
      ],
      "execution_count": 37,
      "outputs": [
        {
          "output_type": "execute_result",
          "data": {
            "text/html": [
              "<div>\n",
              "<style scoped>\n",
              "    .dataframe tbody tr th:only-of-type {\n",
              "        vertical-align: middle;\n",
              "    }\n",
              "\n",
              "    .dataframe tbody tr th {\n",
              "        vertical-align: top;\n",
              "    }\n",
              "\n",
              "    .dataframe thead th {\n",
              "        text-align: right;\n",
              "    }\n",
              "</style>\n",
              "<table border=\"1\" class=\"dataframe\">\n",
              "  <thead>\n",
              "    <tr style=\"text-align: right;\">\n",
              "      <th></th>\n",
              "      <th>Songid</th>\n",
              "    </tr>\n",
              "    <tr>\n",
              "      <th>ArtistName</th>\n",
              "      <th></th>\n",
              "    </tr>\n",
              "  </thead>\n",
              "  <tbody>\n",
              "    <tr>\n",
              "      <th>Florence + The Machine</th>\n",
              "      <td>2210</td>\n",
              "    </tr>\n",
              "    <tr>\n",
              "      <th>Björk</th>\n",
              "      <td>1493</td>\n",
              "    </tr>\n",
              "    <tr>\n",
              "      <th>Justin Bieber</th>\n",
              "      <td>1445</td>\n",
              "    </tr>\n",
              "    <tr>\n",
              "      <th>Coldplay</th>\n",
              "      <td>1417</td>\n",
              "    </tr>\n",
              "    <tr>\n",
              "      <th>Alliance Ethnik</th>\n",
              "      <td>1205</td>\n",
              "    </tr>\n",
              "  </tbody>\n",
              "</table>\n",
              "</div>"
            ],
            "text/plain": [
              "                        Songid\n",
              "ArtistName                    \n",
              "Florence + The Machine    2210\n",
              "Björk                     1493\n",
              "Justin Bieber             1445\n",
              "Coldplay                  1417\n",
              "Alliance Ethnik           1205"
            ]
          },
          "metadata": {
            "tags": []
          },
          "execution_count": 37
        }
      ]
    },
    {
      "cell_type": "code",
      "metadata": {
        "colab": {
          "base_uri": "https://localhost:8080/",
          "height": 428
        },
        "id": "08vLzbNkiCqg",
        "outputId": "30e13527-b69a-47ed-b928-74bcb08a471c"
      },
      "source": [
        "data =df_merge[['ArtistName','Songid']].groupby(['ArtistName'])['ArtistName'].count().reset_index(name='count').sort_values(['count'], ascending=False).head(10)\n",
        "sns.barplot(x='ArtistName',y='count',data=data)\n",
        "plt.xticks(rotation=90)"
      ],
      "execution_count": 38,
      "outputs": [
        {
          "output_type": "execute_result",
          "data": {
            "text/plain": [
              "(array([0, 1, 2, 3, 4, 5, 6, 7, 8, 9]),\n",
              " <a list of 10 Text major ticklabel objects>)"
            ]
          },
          "metadata": {
            "tags": []
          },
          "execution_count": 38
        },
        {
          "output_type": "display_data",
          "data": {
            "image/png": "[encoded data removed]",
            "text/plain": [
              "<Figure size 432x288 with 1 Axes>"
            ]
          },
          "metadata": {
            "tags": []
          }
        }
      ]
    },
    {
      "cell_type": "markdown",
      "metadata": {
        "id": "HfyN_RnKit1K"
      },
      "source": [
        "# Least Popular Artists"
      ]
    },
    {
      "cell_type": "code",
      "metadata": {
        "colab": {
          "base_uri": "https://localhost:8080/",
          "height": 234
        },
        "id": "YMvqO-BEisHY",
        "outputId": "b536fa87-7cb3-4c9e-a971-78d0c7656b4e"
      },
      "source": [
        "df_merge[['ArtistName','Songid']].groupby('ArtistName').count().sort_values('Songid',ascending= True).head()"
      ],
      "execution_count": 39,
      "outputs": [
        {
          "output_type": "execute_result",
          "data": {
            "text/html": [
              "<div>\n",
              "<style scoped>\n",
              "    .dataframe tbody tr th:only-of-type {\n",
              "        vertical-align: middle;\n",
              "    }\n",
              "\n",
              "    .dataframe tbody tr th {\n",
              "        vertical-align: top;\n",
              "    }\n",
              "\n",
              "    .dataframe thead th {\n",
              "        text-align: right;\n",
              "    }\n",
              "</style>\n",
              "<table border=\"1\" class=\"dataframe\">\n",
              "  <thead>\n",
              "    <tr style=\"text-align: right;\">\n",
              "      <th></th>\n",
              "      <th>Songid</th>\n",
              "    </tr>\n",
              "    <tr>\n",
              "      <th>ArtistName</th>\n",
              "      <th></th>\n",
              "    </tr>\n",
              "  </thead>\n",
              "  <tbody>\n",
              "    <tr>\n",
              "      <th>GEORGE SOULE</th>\n",
              "      <td>1</td>\n",
              "    </tr>\n",
              "    <tr>\n",
              "      <th>Sabrina Starke</th>\n",
              "      <td>1</td>\n",
              "    </tr>\n",
              "    <tr>\n",
              "      <th>Dobenbeck feat. Joanna</th>\n",
              "      <td>1</td>\n",
              "    </tr>\n",
              "    <tr>\n",
              "      <th>Kurt Elling</th>\n",
              "      <td>1</td>\n",
              "    </tr>\n",
              "    <tr>\n",
              "      <th>Kula Shaker</th>\n",
              "      <td>1</td>\n",
              "    </tr>\n",
              "  </tbody>\n",
              "</table>\n",
              "</div>"
            ],
            "text/plain": [
              "                        Songid\n",
              "ArtistName                    \n",
              "GEORGE SOULE                 1\n",
              "Sabrina Starke               1\n",
              "Dobenbeck feat. Joanna       1\n",
              "Kurt Elling                  1\n",
              "Kula Shaker                  1"
            ]
          },
          "metadata": {
            "tags": []
          },
          "execution_count": 39
        }
      ]
    },
    {
      "cell_type": "code",
      "metadata": {
        "colab": {
          "base_uri": "https://localhost:8080/",
          "height": 422
        },
        "id": "omNWfypIjGsR",
        "outputId": "de9f3cf7-3533-4874-ab5d-1026ed1cb310"
      },
      "source": [
        "data =df_merge[['ArtistName','Songid']].groupby(['ArtistName'])['ArtistName'].count().reset_index(name='count').sort_values(['count'], ascending=True).head(10)\n",
        "sns.barplot(x='ArtistName',y='count',data=data)\n",
        "plt.xticks(rotation=90)"
      ],
      "execution_count": 40,
      "outputs": [
        {
          "output_type": "execute_result",
          "data": {
            "text/plain": [
              "(array([0, 1, 2, 3, 4, 5, 6, 7, 8, 9]),\n",
              " <a list of 10 Text major ticklabel objects>)"
            ]
          },
          "metadata": {
            "tags": []
          },
          "execution_count": 40
        },
        {
          "output_type": "display_data",
          "data": {
            "image/png": "[encoded data removed]",
            "text/plain": [
              "<Figure size 432x288 with 1 Axes>"
            ]
          },
          "metadata": {
            "tags": []
          }
        }
      ]
    },
    {
      "cell_type": "markdown",
      "metadata": {
        "id": "KlPSdcG3lzIz"
      },
      "source": [
        "# Artists with maximum songs released"
      ]
    },
    {
      "cell_type": "code",
      "metadata": {
        "colab": {
          "base_uri": "https://localhost:8080/",
          "height": 234
        },
        "id": "CIbdGVQVlx0s",
        "outputId": "5278d859-faa2-4563-ad10-ad63d626688c"
      },
      "source": [
        "df_uniquetrack[['ArtistName','Songid']].groupby(['ArtistName']).count().sort_values('Songid',ascending=False).head(5)"
      ],
      "execution_count": 41,
      "outputs": [
        {
          "output_type": "execute_result",
          "data": {
            "text/html": [
              "<div>\n",
              "<style scoped>\n",
              "    .dataframe tbody tr th:only-of-type {\n",
              "        vertical-align: middle;\n",
              "    }\n",
              "\n",
              "    .dataframe tbody tr th {\n",
              "        vertical-align: top;\n",
              "    }\n",
              "\n",
              "    .dataframe thead th {\n",
              "        text-align: right;\n",
              "    }\n",
              "</style>\n",
              "<table border=\"1\" class=\"dataframe\">\n",
              "  <thead>\n",
              "    <tr style=\"text-align: right;\">\n",
              "      <th></th>\n",
              "      <th>Songid</th>\n",
              "    </tr>\n",
              "    <tr>\n",
              "      <th>ArtistName</th>\n",
              "      <th></th>\n",
              "    </tr>\n",
              "  </thead>\n",
              "  <tbody>\n",
              "    <tr>\n",
              "      <th>Johnny Cash</th>\n",
              "      <td>85</td>\n",
              "    </tr>\n",
              "    <tr>\n",
              "      <th>Ella Fitzgerald</th>\n",
              "      <td>78</td>\n",
              "    </tr>\n",
              "    <tr>\n",
              "      <th>Neil Diamond</th>\n",
              "      <td>75</td>\n",
              "    </tr>\n",
              "    <tr>\n",
              "      <th>Bob Dylan</th>\n",
              "      <td>73</td>\n",
              "    </tr>\n",
              "    <tr>\n",
              "      <th>Michael Jackson</th>\n",
              "      <td>73</td>\n",
              "    </tr>\n",
              "  </tbody>\n",
              "</table>\n",
              "</div>"
            ],
            "text/plain": [
              "                 Songid\n",
              "ArtistName             \n",
              "Johnny Cash          85\n",
              "Ella Fitzgerald      78\n",
              "Neil Diamond         75\n",
              "Bob Dylan            73\n",
              "Michael Jackson      73"
            ]
          },
          "metadata": {
            "tags": []
          },
          "execution_count": 41
        }
      ]
    },
    {
      "cell_type": "code",
      "metadata": {
        "colab": {
          "base_uri": "https://localhost:8080/",
          "height": 396
        },
        "id": "pci08NBDnEB6",
        "outputId": "ee49bd44-4caf-43ca-da38-3fbcb228f672"
      },
      "source": [
        "data =df_uniquetrack[['ArtistName','Songid']].groupby(['ArtistName'])['ArtistName'].count().reset_index(name='count').sort_values(['count'], ascending=False).head(10)\n",
        "sns.barplot(x='ArtistName',y='count',data=data)\n",
        "plt.xticks(rotation=90)"
      ],
      "execution_count": null,
      "outputs": [
        {
          "output_type": "execute_result",
          "data": {
            "text/plain": [
              "(array([0, 1, 2, 3, 4, 5, 6, 7, 8, 9]),\n",
              " <a list of 10 Text major ticklabel objects>)"
            ]
          },
          "metadata": {
            "tags": []
          },
          "execution_count": 41
        },
        {
          "output_type": "display_data",
          "data": {
            "image/png": "[encoded data removed]",
            "text/plain": [
              "<Figure size 432x288 with 1 Axes>"
            ]
          },
          "metadata": {
            "tags": []
          }
        }
      ]
    },
    {
      "cell_type": "markdown",
      "metadata": {
        "id": "ywJXjrS8oP4G"
      },
      "source": [
        "# Artists with minimum song released"
      ]
    },
    {
      "cell_type": "code",
      "metadata": {
        "colab": {
          "base_uri": "https://localhost:8080/",
          "height": 234
        },
        "id": "9TXoBfRaoMmm",
        "outputId": "d99314a7-4d10-469b-ef4c-d97976595db6"
      },
      "source": [
        "#Artist with Less songs\n",
        "\n",
        "df_uniquetrack[['ArtistName','Songid']].groupby(['ArtistName']).count().sort_values('Songid',ascending=True).head(5)"
      ],
      "execution_count": null,
      "outputs": [
        {
          "output_type": "execute_result",
          "data": {
            "text/html": [
              "<div>\n",
              "<style scoped>\n",
              "    .dataframe tbody tr th:only-of-type {\n",
              "        vertical-align: middle;\n",
              "    }\n",
              "\n",
              "    .dataframe tbody tr th {\n",
              "        vertical-align: top;\n",
              "    }\n",
              "\n",
              "    .dataframe thead th {\n",
              "        text-align: right;\n",
              "    }\n",
              "</style>\n",
              "<table border=\"1\" class=\"dataframe\">\n",
              "  <thead>\n",
              "    <tr style=\"text-align: right;\">\n",
              "      <th></th>\n",
              "      <th>Songid</th>\n",
              "    </tr>\n",
              "    <tr>\n",
              "      <th>ArtistName</th>\n",
              "      <th></th>\n",
              "    </tr>\n",
              "  </thead>\n",
              "  <tbody>\n",
              "    <tr>\n",
              "      <th>Little Louie\" Vega Feat. Arnold Jarvis</th>\n",
              "      <td>1</td>\n",
              "    </tr>\n",
              "    <tr>\n",
              "      <th>Greg Hawks &amp; The Tremblers</th>\n",
              "      <td>1</td>\n",
              "    </tr>\n",
              "    <tr>\n",
              "      <th>Greg Edwards</th>\n",
              "      <td>1</td>\n",
              "    </tr>\n",
              "    <tr>\n",
              "      <th>Greg Davis_ Sébastien Roux</th>\n",
              "      <td>1</td>\n",
              "    </tr>\n",
              "    <tr>\n",
              "      <th>Greg Davis &amp; Jeph Jerman</th>\n",
              "      <td>1</td>\n",
              "    </tr>\n",
              "  </tbody>\n",
              "</table>\n",
              "</div>"
            ],
            "text/plain": [
              "                                         Songid\n",
              "ArtistName                                     \n",
              "\n",
              "Little Louie\" Vega Feat. Arnold Jarvis       1\n",
              "Greg Hawks & The Tremblers                    1\n",
              "Greg Edwards                                  1\n",
              "Greg Davis_ Sébastien Roux                    1\n",
              "Greg Davis & Jeph Jerman                      1"
            ]
          },
          "metadata": {
            "tags": []
          },
          "execution_count": 42
        }
      ]
    },
    {
      "cell_type": "code",
      "metadata": {
        "colab": {
          "base_uri": "https://localhost:8080/",
          "height": 494
        },
        "id": "N_WTDYs1pcgX",
        "outputId": "e8d5e695-0a3b-40b5-d12f-a07a7160eb5c"
      },
      "source": [
        "data =df_uniquetrack[['ArtistName','Songid']].groupby(['ArtistName'])['ArtistName'].count().reset_index(name='count').sort_values(['count'], ascending=True).head(10)\n",
        "sns.barplot(x='ArtistName',y='count',data=data)\n",
        "plt.xticks(rotation=90)"
      ],
      "execution_count": null,
      "outputs": [
        {
          "output_type": "execute_result",
          "data": {
            "text/plain": [
              "(array([0, 1, 2, 3, 4, 5, 6, 7, 8, 9]),\n",
              " <a list of 10 Text major ticklabel objects>)"
            ]
          },
          "metadata": {
            "tags": []
          },
          "execution_count": 43
        },
        {
          "output_type": "display_data",
          "data": {
            "image/png": "[encoded data removed]",
            "text/plain": [
              "<Figure size 432x288 with 1 Axes>"
            ]
          },
          "metadata": {
            "tags": []
          }
        }
      ]
    },
    {
      "cell_type": "code",
      "metadata": {
        "colab": {
          "base_uri": "https://localhost:8080/"
        },
        "id": "F35Chayzp0sm",
        "outputId": "a9cf3b33-3256-44ac-edbf-e8a1fe8adcb4"
      },
      "source": [
        "#For my intrest, want to check the songs by Michael Jackson\t\n",
        "dt_m=df_uniquetrack[df_uniquetrack['ArtistName']=='Michael Jackson']\n",
        "dt_m[dt_m[['Songid','Release']].duplicated()][['Songid','Release']].shape"
      ],
      "execution_count": null,
      "outputs": [
        {
          "output_type": "execute_result",
          "data": {
            "text/plain": [
              "(14, 2)"
            ]
          },
          "metadata": {
            "tags": []
          },
          "execution_count": 44
        }
      ]
    },
    {
      "cell_type": "code",
      "metadata": {
        "colab": {
          "base_uri": "https://localhost:8080/"
        },
        "id": "1bNfXRzcqITE",
        "outputId": "4e665030-1df6-4790-c1a3-790b41e57e19"
      },
      "source": [
        "df_uniquetrack[df_uniquetrack['Songid'].duplicated()]['Songid'].shape"
      ],
      "execution_count": null,
      "outputs": [
        {
          "output_type": "execute_result",
          "data": {
            "text/plain": [
              "(944,)"
            ]
          },
          "metadata": {
            "tags": []
          },
          "execution_count": 45
        }
      ]
    },
    {
      "cell_type": "markdown",
      "metadata": {
        "id": "89rURX3CqaIo"
      },
      "source": [
        "From the above it is Clear that we have 14 duplicate song id for Michael Jackson and 944 for all the songid's"
      ]
    },
    {
      "cell_type": "code",
      "metadata": {
        "colab": {
          "base_uri": "https://localhost:8080/"
        },
        "id": "74aMTJvAqW3n",
        "outputId": "396b0f7f-3e94-4e8c-dfe4-8057687770ab"
      },
      "source": [
        "#For my intrest, want to check the songs by Michael Jackson\t\n",
        "dt_m=df_uniquetrack[df_uniquetrack['ArtistName']=='Michael Jackson']\n",
        "dt_m[dt_m[['Trackid','Songid','Release']].duplicated()][['Trackid','Songid','Release']].shape"
      ],
      "execution_count": null,
      "outputs": [
        {
          "output_type": "execute_result",
          "data": {
            "text/plain": [
              "(0, 3)"
            ]
          },
          "metadata": {
            "tags": []
          },
          "execution_count": 46
        }
      ]
    },
    {
      "cell_type": "markdown",
      "metadata": {
        "id": "9pjpKhS8q-HA"
      },
      "source": [
        "So when considering the Track ID, we are getting the unique values, So let's see how many songs are mapped to each track"
      ]
    },
    {
      "cell_type": "code",
      "metadata": {
        "colab": {
          "base_uri": "https://localhost:8080/",
          "height": 234
        },
        "id": "k3uMUMmnrvX6",
        "outputId": "d4195eee-68e4-4fae-8fc9-0f8dcbcdb59a"
      },
      "source": [
        "df_uniquetrack[['Trackid','Songid','Release']].groupby('Songid').count().sort_values('Release',ascending=False).head()"
      ],
      "execution_count": null,
      "outputs": [
        {
          "output_type": "execute_result",
          "data": {
            "text/html": [
              "<div>\n",
              "<style scoped>\n",
              "    .dataframe tbody tr th:only-of-type {\n",
              "        vertical-align: middle;\n",
              "    }\n",
              "\n",
              "    .dataframe tbody tr th {\n",
              "        vertical-align: top;\n",
              "    }\n",
              "\n",
              "    .dataframe thead th {\n",
              "        text-align: right;\n",
              "    }\n",
              "</style>\n",
              "<table border=\"1\" class=\"dataframe\">\n",
              "  <thead>\n",
              "    <tr style=\"text-align: right;\">\n",
              "      <th></th>\n",
              "      <th>Trackid</th>\n",
              "      <th>Release</th>\n",
              "    </tr>\n",
              "    <tr>\n",
              "      <th>Songid</th>\n",
              "      <th></th>\n",
              "      <th></th>\n",
              "    </tr>\n",
              "  </thead>\n",
              "  <tbody>\n",
              "    <tr>\n",
              "      <th>SOEHQBQ12A6D4F9EA9</th>\n",
              "      <td>3</td>\n",
              "      <td>3</td>\n",
              "    </tr>\n",
              "    <tr>\n",
              "      <th>SOPOCDY12A8C13F75A</th>\n",
              "      <td>3</td>\n",
              "      <td>3</td>\n",
              "    </tr>\n",
              "    <tr>\n",
              "      <th>SOEGQML12AF7299C84</th>\n",
              "      <td>3</td>\n",
              "      <td>3</td>\n",
              "    </tr>\n",
              "    <tr>\n",
              "      <th>SOBPAEP12A58A77F49</th>\n",
              "      <td>3</td>\n",
              "      <td>3</td>\n",
              "    </tr>\n",
              "    <tr>\n",
              "      <th>SOVSGJB12A8C13F772</th>\n",
              "      <td>3</td>\n",
              "      <td>3</td>\n",
              "    </tr>\n",
              "  </tbody>\n",
              "</table>\n",
              "</div>"
            ],
            "text/plain": [
              "                    Trackid  Release\n",
              "Songid                              \n",
              "SOEHQBQ12A6D4F9EA9        3        3\n",
              "SOPOCDY12A8C13F75A        3        3\n",
              "SOEGQML12AF7299C84        3        3\n",
              "SOBPAEP12A58A77F49        3        3\n",
              "SOVSGJB12A8C13F772        3        3"
            ]
          },
          "metadata": {
            "tags": []
          },
          "execution_count": 47
        }
      ]
    },
    {
      "cell_type": "markdown",
      "metadata": {
        "id": "8CWWM4JLsNg3"
      },
      "source": [
        "So, From the above figures it is clear that 1 songid is mapped to multiple Track and release"
      ]
    },
    {
      "cell_type": "code",
      "metadata": {
        "colab": {
          "base_uri": "https://localhost:8080/"
        },
        "id": "8_uZcJzLsUnR",
        "outputId": "be86239d-bcb8-466c-be04-a2d2e90f0e31"
      },
      "source": [
        "dt_m[['Songid']].value_counts()"
      ],
      "execution_count": null,
      "outputs": [
        {
          "output_type": "execute_result",
          "data": {
            "text/plain": [
              "Songid            \n",
              "SOQUAIH12AB0181406    2\n",
              "SOBKDCU12A6D4F80F6    2\n",
              "SOWAEPK12A8C13543B    2\n",
              "SOHZIPR12A8C1350D3    2\n",
              "SOGHXZH12A8C1388B9    2\n",
              "                     ..\n",
              "SOPXWKJ12CF5F86F3D    1\n",
              "SOPINQU12A58A7C781    1\n",
              "SOPIHZM12CF5F89127    1\n",
              "SOPAVVQ12CF58265C2    1\n",
              "SOAKAEZ12A6D4F80E4    1\n",
              "Length: 179, dtype: int64"
            ]
          },
          "metadata": {
            "tags": []
          },
          "execution_count": 48
        }
      ]
    },
    {
      "cell_type": "markdown",
      "metadata": {
        "id": "vzb24FsiGRXb"
      },
      "source": [
        "Let's find how many songs are released in each Release"
      ]
    },
    {
      "cell_type": "code",
      "metadata": {
        "colab": {
          "base_uri": "https://localhost:8080/",
          "height": 447
        },
        "id": "DE7cv7aCeF_0",
        "outputId": "99bebd03-5c4c-4703-fcdd-e1baf5476b8f"
      },
      "source": [
        "df_uniquetrack[['Songid','ArtistName','Release']].groupby(['Release','ArtistName']).count().sort_values('Songid',ascending=False)"
      ],
      "execution_count": null,
      "outputs": [
        {
          "output_type": "execute_result",
          "data": {
            "text/html": [
              "<div>\n",
              "<style scoped>\n",
              "    .dataframe tbody tr th:only-of-type {\n",
              "        vertical-align: middle;\n",
              "    }\n",
              "\n",
              "    .dataframe tbody tr th {\n",
              "        vertical-align: top;\n",
              "    }\n",
              "\n",
              "    .dataframe thead th {\n",
              "        text-align: right;\n",
              "    }\n",
              "</style>\n",
              "<table border=\"1\" class=\"dataframe\">\n",
              "  <thead>\n",
              "    <tr style=\"text-align: right;\">\n",
              "      <th></th>\n",
              "      <th></th>\n",
              "      <th>Songid</th>\n",
              "    </tr>\n",
              "    <tr>\n",
              "      <th>Release</th>\n",
              "      <th>ArtistName</th>\n",
              "      <th></th>\n",
              "    </tr>\n",
              "  </thead>\n",
              "  <tbody>\n",
              "    <tr>\n",
              "      <th>Untitled</th>\n",
              "      <th>Der Blutharsch</th>\n",
              "      <td>87</td>\n",
              "    </tr>\n",
              "    <tr>\n",
              "      <th>Hip-Hop Beats</th>\n",
              "      <th>Hip-Hop Beats</th>\n",
              "      <td>33</td>\n",
              "    </tr>\n",
              "    <tr>\n",
              "      <th>Untitled</th>\n",
              "      <th>7000 Dying Rats</th>\n",
              "      <td>31</td>\n",
              "    </tr>\n",
              "    <tr>\n",
              "      <th>Greece 2000</th>\n",
              "      <th>Three Drives</th>\n",
              "      <td>28</td>\n",
              "    </tr>\n",
              "    <tr>\n",
              "      <th>Bonus Track</th>\n",
              "      <th>Elakelaiset</th>\n",
              "      <td>25</td>\n",
              "    </tr>\n",
              "    <tr>\n",
              "      <th>...</th>\n",
              "      <th>...</th>\n",
              "      <td>...</td>\n",
              "    </tr>\n",
              "    <tr>\n",
              "      <th>Hey Jim</th>\n",
              "      <th>James Moody</th>\n",
              "      <td>1</td>\n",
              "    </tr>\n",
              "    <tr>\n",
              "      <th>Hey Jimmy</th>\n",
              "      <th>Los Natas</th>\n",
              "      <td>1</td>\n",
              "    </tr>\n",
              "    <tr>\n",
              "      <th>Hey Jimmy Freek</th>\n",
              "      <th>The Neptunas</th>\n",
              "      <td>1</td>\n",
              "    </tr>\n",
              "    <tr>\n",
              "      <th>Hey Joe</th>\n",
              "      <th>Amp Fiddler</th>\n",
              "      <td>1</td>\n",
              "    </tr>\n",
              "    <tr>\n",
              "      <th>þetta Gerist á Bestu Bæjum</th>\n",
              "      <th>Johann Johannsson</th>\n",
              "      <td>1</td>\n",
              "    </tr>\n",
              "  </tbody>\n",
              "</table>\n",
              "<p>925931 rows × 1 columns</p>\n",
              "</div>"
            ],
            "text/plain": [
              "                                              Songid\n",
              "Release                    ArtistName               \n",
              "Untitled                   Der Blutharsch         87\n",
              "Hip-Hop Beats              Hip-Hop Beats          33\n",
              "Untitled                   7000 Dying Rats        31\n",
              "Greece 2000                Three Drives           28\n",
              "Bonus Track                Elakelaiset            25\n",
              "...                                              ...\n",
              "Hey Jim                    James Moody             1\n",
              "Hey Jimmy                  Los Natas               1\n",
              "Hey Jimmy Freek            The Neptunas            1\n",
              "Hey Joe                    Amp Fiddler             1\n",
              "þetta Gerist á Bestu Bæjum Johann Johannsson       1\n",
              "\n",
              "[925931 rows x 1 columns]"
            ]
          },
          "metadata": {
            "tags": []
          },
          "execution_count": 49
        }
      ]
    },
    {
      "cell_type": "code",
      "metadata": {
        "id": "NxrZADhxxhSa",
        "colab": {
          "base_uri": "https://localhost:8080/",
          "height": 417
        },
        "outputId": "d5f4f41d-3240-4637-c1a4-0fde922bc035"
      },
      "source": [
        "df_uniquetrack[df_uniquetrack['Release']=='Untitled']"
      ],
      "execution_count": null,
      "outputs": [
        {
          "output_type": "execute_result",
          "data": {
            "text/html": [
              "<div>\n",
              "<style scoped>\n",
              "    .dataframe tbody tr th:only-of-type {\n",
              "        vertical-align: middle;\n",
              "    }\n",
              "\n",
              "    .dataframe tbody tr th {\n",
              "        vertical-align: top;\n",
              "    }\n",
              "\n",
              "    .dataframe thead th {\n",
              "        text-align: right;\n",
              "    }\n",
              "</style>\n",
              "<table border=\"1\" class=\"dataframe\">\n",
              "  <thead>\n",
              "    <tr style=\"text-align: right;\">\n",
              "      <th></th>\n",
              "      <th>Trackid</th>\n",
              "      <th>Songid</th>\n",
              "      <th>ArtistName</th>\n",
              "      <th>Release</th>\n",
              "    </tr>\n",
              "  </thead>\n",
              "  <tbody>\n",
              "    <tr>\n",
              "      <th>4145</th>\n",
              "      <td>TRMGVDK12903CB6FA7</td>\n",
              "      <td>SODNRCH12AB0185AD9</td>\n",
              "      <td>Der Blutharsch</td>\n",
              "      <td>Untitled</td>\n",
              "    </tr>\n",
              "    <tr>\n",
              "      <th>8449</th>\n",
              "      <td>TRMRJUC128F4275423</td>\n",
              "      <td>SOJXDWU12A8C13F636</td>\n",
              "      <td>Harry Pussy</td>\n",
              "      <td>Untitled</td>\n",
              "    </tr>\n",
              "    <tr>\n",
              "      <th>8730</th>\n",
              "      <td>TRMROOY128F9353E6B</td>\n",
              "      <td>SOUUXQO12AB0189A02</td>\n",
              "      <td>Mikaela's Fiend</td>\n",
              "      <td>Untitled</td>\n",
              "    </tr>\n",
              "    <tr>\n",
              "      <th>8976</th>\n",
              "      <td>TRMBMYF128F92C6D14</td>\n",
              "      <td>SOUPWRP12A58A77BE1</td>\n",
              "      <td>Jonezetta</td>\n",
              "      <td>Untitled</td>\n",
              "    </tr>\n",
              "    <tr>\n",
              "      <th>12025</th>\n",
              "      <td>TRMQHJD128F424A4FF</td>\n",
              "      <td>SOJJUDG12A8C1324EA</td>\n",
              "      <td>Robert Hood</td>\n",
              "      <td>Untitled</td>\n",
              "    </tr>\n",
              "    <tr>\n",
              "      <th>...</th>\n",
              "      <td>...</td>\n",
              "      <td>...</td>\n",
              "      <td>...</td>\n",
              "      <td>...</td>\n",
              "    </tr>\n",
              "    <tr>\n",
              "      <th>977117</th>\n",
              "      <td>TRYIZNU12903D04194</td>\n",
              "      <td>SONZPZO12AC468537A</td>\n",
              "      <td>Der Blutharsch</td>\n",
              "      <td>Untitled</td>\n",
              "    </tr>\n",
              "    <tr>\n",
              "      <th>983070</th>\n",
              "      <td>TRYTIVP128F42A4E3E</td>\n",
              "      <td>SOSYDPG12A8C13FD25</td>\n",
              "      <td>Agression</td>\n",
              "      <td>Untitled</td>\n",
              "    </tr>\n",
              "    <tr>\n",
              "      <th>993373</th>\n",
              "      <td>TRYDNMA12903CB6FD0</td>\n",
              "      <td>SOMCQFO12AB0186E41</td>\n",
              "      <td>Der Blutharsch</td>\n",
              "      <td>Untitled</td>\n",
              "    </tr>\n",
              "    <tr>\n",
              "      <th>995675</th>\n",
              "      <td>TRYXWAH128F934C318</td>\n",
              "      <td>SOZVEEA12AB018374C</td>\n",
              "      <td>Psyopus</td>\n",
              "      <td>Untitled</td>\n",
              "    </tr>\n",
              "    <tr>\n",
              "      <th>996564</th>\n",
              "      <td>TRYXEVB128E07912A2</td>\n",
              "      <td>SOZKSIP12D02199328</td>\n",
              "      <td>Marilyn Manson</td>\n",
              "      <td>Untitled</td>\n",
              "    </tr>\n",
              "  </tbody>\n",
              "</table>\n",
              "<p>414 rows × 4 columns</p>\n",
              "</div>"
            ],
            "text/plain": [
              "                   Trackid              Songid       ArtistName   Release\n",
              "4145    TRMGVDK12903CB6FA7  SODNRCH12AB0185AD9   Der Blutharsch  Untitled\n",
              "8449    TRMRJUC128F4275423  SOJXDWU12A8C13F636      Harry Pussy  Untitled\n",
              "8730    TRMROOY128F9353E6B  SOUUXQO12AB0189A02  Mikaela's Fiend  Untitled\n",
              "8976    TRMBMYF128F92C6D14  SOUPWRP12A58A77BE1        Jonezetta  Untitled\n",
              "12025   TRMQHJD128F424A4FF  SOJJUDG12A8C1324EA      Robert Hood  Untitled\n",
              "...                    ...                 ...              ...       ...\n",
              "977117  TRYIZNU12903D04194  SONZPZO12AC468537A   Der Blutharsch  Untitled\n",
              "983070  TRYTIVP128F42A4E3E  SOSYDPG12A8C13FD25        Agression  Untitled\n",
              "993373  TRYDNMA12903CB6FD0  SOMCQFO12AB0186E41   Der Blutharsch  Untitled\n",
              "995675  TRYXWAH128F934C318  SOZVEEA12AB018374C          Psyopus  Untitled\n",
              "996564  TRYXEVB128E07912A2  SOZKSIP12D02199328   Marilyn Manson  Untitled\n",
              "\n",
              "[414 rows x 4 columns]"
            ]
          },
          "metadata": {
            "tags": []
          },
          "execution_count": 50
        }
      ]
    },
    {
      "cell_type": "code",
      "metadata": {
        "id": "7KgkWJil-0UE"
      },
      "source": [
        "from google.colab import drive\n",
        "drive.mount('/content/drive')"
      ],
      "execution_count": null,
      "outputs": []
    },
    {
      "cell_type": "code",
      "metadata": {
        "id": "cIoBqi0qyuE0",
        "colab": {
          "base_uri": "https://localhost:8080/",
          "height": 447
        },
        "outputId": "e3614b27-376e-4b9c-da48-878e356c3a69"
      },
      "source": [
        "df_uniquetrack[df_uniquetrack['Release'] != 'Untitled'][['Songid','ArtistName','Release']].groupby(['Release','ArtistName']).count().sort_values('Songid',ascending=False)"
      ],
      "execution_count": null,
      "outputs": [
        {
          "output_type": "execute_result",
          "data": {
            "text/html": [
              "<div>\n",
              "<style scoped>\n",
              "    .dataframe tbody tr th:only-of-type {\n",
              "        vertical-align: middle;\n",
              "    }\n",
              "\n",
              "    .dataframe tbody tr th {\n",
              "        vertical-align: top;\n",
              "    }\n",
              "\n",
              "    .dataframe thead th {\n",
              "        text-align: right;\n",
              "    }\n",
              "</style>\n",
              "<table border=\"1\" class=\"dataframe\">\n",
              "  <thead>\n",
              "    <tr style=\"text-align: right;\">\n",
              "      <th></th>\n",
              "      <th></th>\n",
              "      <th>Songid</th>\n",
              "    </tr>\n",
              "    <tr>\n",
              "      <th>Release</th>\n",
              "      <th>ArtistName</th>\n",
              "      <th></th>\n",
              "    </tr>\n",
              "  </thead>\n",
              "  <tbody>\n",
              "    <tr>\n",
              "      <th>Hip-Hop Beats</th>\n",
              "      <th>Hip-Hop Beats</th>\n",
              "      <td>33</td>\n",
              "    </tr>\n",
              "    <tr>\n",
              "      <th>Greece 2000</th>\n",
              "      <th>Three Drives</th>\n",
              "      <td>28</td>\n",
              "    </tr>\n",
              "    <tr>\n",
              "      <th>Bonus Track</th>\n",
              "      <th>Elakelaiset</th>\n",
              "      <td>25</td>\n",
              "    </tr>\n",
              "    <tr>\n",
              "      <th>Jana Gana Mana</th>\n",
              "      <th>AR Rahman</th>\n",
              "      <td>20</td>\n",
              "    </tr>\n",
              "    <tr>\n",
              "      <th>The Age Of Love</th>\n",
              "      <th>Age Of Love</th>\n",
              "      <td>20</td>\n",
              "    </tr>\n",
              "    <tr>\n",
              "      <th>...</th>\n",
              "      <th>...</th>\n",
              "      <td>...</td>\n",
              "    </tr>\n",
              "    <tr>\n",
              "      <th>Hey Hey (Rock On)</th>\n",
              "      <th>The Hot Rocks</th>\n",
              "      <td>1</td>\n",
              "    </tr>\n",
              "    <tr>\n",
              "      <th>Hey Hey (Vampires Vs. Cheerleaders Mix)</th>\n",
              "      <th>Superchick</th>\n",
              "      <td>1</td>\n",
              "    </tr>\n",
              "    <tr>\n",
              "      <th>Hey Hey Baby</th>\n",
              "      <th>Helen Humes</th>\n",
              "      <td>1</td>\n",
              "    </tr>\n",
              "    <tr>\n",
              "      <th>Hey Hey China</th>\n",
              "      <th>Slumber Party</th>\n",
              "      <td>1</td>\n",
              "    </tr>\n",
              "    <tr>\n",
              "      <th>þetta Gerist á Bestu Bæjum</th>\n",
              "      <th>Johann Johannsson</th>\n",
              "      <td>1</td>\n",
              "    </tr>\n",
              "  </tbody>\n",
              "</table>\n",
              "<p>925699 rows × 1 columns</p>\n",
              "</div>"
            ],
            "text/plain": [
              "                                                           Songid\n",
              "Release                                 ArtistName               \n",
              "Hip-Hop Beats                           Hip-Hop Beats          33\n",
              "Greece 2000                             Three Drives           28\n",
              "Bonus Track                             Elakelaiset            25\n",
              "Jana Gana Mana                          AR Rahman              20\n",
              "The Age Of Love                         Age Of Love            20\n",
              "...                                                           ...\n",
              "Hey Hey (Rock On)                       The Hot Rocks           1\n",
              "Hey Hey (Vampires Vs. Cheerleaders Mix) Superchick              1\n",
              "Hey Hey Baby                            Helen Humes             1\n",
              "Hey Hey China                           Slumber Party           1\n",
              "þetta Gerist á Bestu Bæjum              Johann Johannsson       1\n",
              "\n",
              "[925699 rows x 1 columns]"
            ]
          },
          "metadata": {
            "tags": []
          },
          "execution_count": 51
        }
      ]
    },
    {
      "cell_type": "markdown",
      "metadata": {
        "id": "e3qXzQyYGZmM"
      },
      "source": [
        "From above it is clear that in Hip Hop Beats release 33 Songs has released. (Excluding the Untitiled releases)"
      ]
    },
    {
      "cell_type": "markdown",
      "metadata": {
        "id": "30hxj4tjcmbm"
      },
      "source": [
        "# EDA Summary"
      ]
    },
    {
      "cell_type": "markdown",
      "metadata": {
        "id": "Y0dGkVZotn8m"
      },
      "source": [
        "In our Exploratory Data Analysis of the given dataset, we have found the probability of users listening to an average of 13-20 songs is maximum and the average of distinct songs listened by different users is 13.56. The average number of songs listened in total is 1253.2 for the top 5 most active listeners. We have also observed that only a fraction of songs are likely to be popular. After further analysis, it was observed that the most popular artist was Coldplay with Yellow being the most favorite songs.We have also found that the data consists of some duplicate values in the column named 'Songid', which cause ambiguity in the dataset.  We have calculated and visualize different statistical parameters for the Dataset given."
      ]
    },
    {
      "cell_type": "markdown",
      "metadata": {
        "id": "ymbnvpf5IC57"
      },
      "source": [
        "# Model Building"
      ]
    },
    {
      "cell_type": "markdown",
      "metadata": {
        "id": "0dafPyLqIH5V"
      },
      "source": [
        " We mainly have 3 Types of Recommender Systems\n",
        "1. Popularity Based\n",
        "2. Collabrative Filterings\n",
        "3. Content Based"
      ]
    },
    {
      "cell_type": "markdown",
      "metadata": {
        "id": "tge9rAsVIfMo"
      },
      "source": [
        "### **Popularity Based Recommender System:**\n",
        "As the name indicates, Popularity Based recommendation Systems are the type of recommendation system which works on the principle of popularity and or anything which is in trend. In Simple words, here we recommend the Songs that are more listened. \n",
        "\n",
        "This Mainly comes in picture when the user is new or if when we don't have more info about the users likes and dislikes. Here user based personalization is not available\n",
        "\n",
        "\n",
        "---\n",
        "#### Merits of popularity based recommendation system:\n",
        "\n",
        "1.   It does not suffer from cold start problems which means on day 1 of the business also it can recommend products on various different filters.\n",
        "2.  There is no need for the user's historical data.\n",
        "\n",
        "#### Demerits of popularity based recommendation system:\n",
        "\n",
        "1. Not personalized \n",
        "2. The system would recommend the same sort of products/movies which are solely based upon popularity to every other user.\n",
        "\n",
        "\n",
        "\n",
        "\n"
      ]
    },
    {
      "cell_type": "markdown",
      "metadata": {
        "id": "TFng6epsOtLu"
      },
      "source": [
        "### Long Tail Problem"
      ]
    },
    {
      "cell_type": "markdown",
      "metadata": {
        "id": "VU4vwy40inVH"
      },
      "source": [
        "The Long Tail is composed of a small number of popular items, the well-known hits, and the rest are located in the heavy tail, those not sell that well. Long-tail graph shows the distribution of popularity  among the songs in marketplace. There will be very less number of songs that will be more popular.\n",
        "\n",
        "The distribution is shown below."
      ]
    },
    {
      "cell_type": "code",
      "metadata": {
        "colab": {
          "base_uri": "https://localhost:8080/",
          "height": 394
        },
        "id": "98EP2txzIe4U",
        "outputId": "3bdaa720-3bae-4b00-f273-e3e51f4120b5"
      },
      "source": [
        "sns.set(rc={'figure.figsize':(15,6)})\n",
        "splot=sns.distplot(song_popularity,  hist=True, kde=True,)\n",
        "x0 = 20\n",
        "\n",
        "splot.set(xlim=(4, 100))\n",
        "xlim = splot.get_xlim()\n",
        "splot.axvspan(xlim[0], x0, color='#00ff00', alpha=0.5)\n",
        "splot.axvspan(x0, xlim[1], color='#EF9A9A', alpha=0.5)\n",
        "p1 = plt.axvline(x=x0,color='#EF9A9A')\n",
        "\n",
        "plt.show()\n"
      ],
      "execution_count": 77,
      "outputs": [
        {
          "output_type": "display_data",
          "data": {
            "image/png": "[encoded data removed]",
            "text/plain": [
              "<Figure size 1080x432 with 1 Axes>"
            ]
          },
          "metadata": {
            "tags": []
          }
        }
      ]
    },
    {
      "cell_type": "markdown",
      "metadata": {
        "id": "Gft0o7QZjcv2"
      },
      "source": [
        "So, by using the Popularity based recommendation system, there is chance that the less popular songs will remain undiscovered."
      ]
    },
    {
      "cell_type": "code",
      "metadata": {
        "id": "YBL4RRCqw8QY"
      },
      "source": [
        "df=song_popularity.to_frame()\n",
        "df.reset_index(inplace=True)\n"
      ],
      "execution_count": 95,
      "outputs": []
    },
    {
      "cell_type": "code",
      "metadata": {
        "id": "NGCB9CvElC_c"
      },
      "source": [
        "\n",
        "df['Rank']=df['Songid'].rank(ascending=False)"
      ],
      "execution_count": 112,
      "outputs": []
    },
    {
      "cell_type": "code",
      "metadata": {
        "colab": {
          "base_uri": "https://localhost:8080/",
          "height": 417
        },
        "id": "8Kgbcu6_j8oZ",
        "outputId": "cdcbd661-83b6-478c-da6d-a47e6642ea89"
      },
      "source": [
        "df.sort_values(\"Songid\",ascending=False)"
      ],
      "execution_count": 115,
      "outputs": [
        {
          "output_type": "execute_result",
          "data": {
            "text/html": [
              "<div>\n",
              "<style scoped>\n",
              "    .dataframe tbody tr th:only-of-type {\n",
              "        vertical-align: middle;\n",
              "    }\n",
              "\n",
              "    .dataframe tbody tr th {\n",
              "        vertical-align: top;\n",
              "    }\n",
              "\n",
              "    .dataframe thead th {\n",
              "        text-align: right;\n",
              "    }\n",
              "</style>\n",
              "<table border=\"1\" class=\"dataframe\">\n",
              "  <thead>\n",
              "    <tr style=\"text-align: right;\">\n",
              "      <th></th>\n",
              "      <th>index</th>\n",
              "      <th>Songid</th>\n",
              "      <th>Rank</th>\n",
              "    </tr>\n",
              "  </thead>\n",
              "  <tbody>\n",
              "    <tr>\n",
              "      <th>0</th>\n",
              "      <td>SOFRQTD12A81C233C0</td>\n",
              "      <td>1523</td>\n",
              "      <td>1.0</td>\n",
              "    </tr>\n",
              "    <tr>\n",
              "      <th>1</th>\n",
              "      <td>SOAUWYT12A81C206F1</td>\n",
              "      <td>1377</td>\n",
              "      <td>2.0</td>\n",
              "    </tr>\n",
              "    <tr>\n",
              "      <th>2</th>\n",
              "      <td>SOBONKR12A58A7A7E0</td>\n",
              "      <td>1287</td>\n",
              "      <td>3.0</td>\n",
              "    </tr>\n",
              "    <tr>\n",
              "      <th>3</th>\n",
              "      <td>SOSXLTC12AF72A7F54</td>\n",
              "      <td>1161</td>\n",
              "      <td>4.0</td>\n",
              "    </tr>\n",
              "    <tr>\n",
              "      <th>4</th>\n",
              "      <td>SOAXGDH12A8C13F8A1</td>\n",
              "      <td>1135</td>\n",
              "      <td>5.0</td>\n",
              "    </tr>\n",
              "    <tr>\n",
              "      <th>...</th>\n",
              "      <td>...</td>\n",
              "      <td>...</td>\n",
              "      <td>...</td>\n",
              "    </tr>\n",
              "    <tr>\n",
              "      <th>63940</th>\n",
              "      <td>SOOUBAQ12A81C20DB1</td>\n",
              "      <td>1</td>\n",
              "      <td>71905.0</td>\n",
              "    </tr>\n",
              "    <tr>\n",
              "      <th>63941</th>\n",
              "      <td>SOKOUUL12AB0187CD2</td>\n",
              "      <td>1</td>\n",
              "      <td>71905.0</td>\n",
              "    </tr>\n",
              "    <tr>\n",
              "      <th>63942</th>\n",
              "      <td>SOUJVNC12AB0184CCA</td>\n",
              "      <td>1</td>\n",
              "      <td>71905.0</td>\n",
              "    </tr>\n",
              "    <tr>\n",
              "      <th>63943</th>\n",
              "      <td>SOCKYPE12A8C1343B2</td>\n",
              "      <td>1</td>\n",
              "      <td>71905.0</td>\n",
              "    </tr>\n",
              "    <tr>\n",
              "      <th>95781</th>\n",
              "      <td>SOFBDQB12A8C13E0A3</td>\n",
              "      <td>1</td>\n",
              "      <td>71905.0</td>\n",
              "    </tr>\n",
              "  </tbody>\n",
              "</table>\n",
              "<p>95782 rows × 3 columns</p>\n",
              "</div>"
            ],
            "text/plain": [
              "                    index  Songid     Rank\n",
              "0      SOFRQTD12A81C233C0    1523      1.0\n",
              "1      SOAUWYT12A81C206F1    1377      2.0\n",
              "2      SOBONKR12A58A7A7E0    1287      3.0\n",
              "3      SOSXLTC12AF72A7F54    1161      4.0\n",
              "4      SOAXGDH12A8C13F8A1    1135      5.0\n",
              "...                   ...     ...      ...\n",
              "63940  SOOUBAQ12A81C20DB1       1  71905.0\n",
              "63941  SOKOUUL12AB0187CD2       1  71905.0\n",
              "63942  SOUJVNC12AB0184CCA       1  71905.0\n",
              "63943  SOCKYPE12A8C1343B2       1  71905.0\n",
              "95781  SOFBDQB12A8C13E0A3       1  71905.0\n",
              "\n",
              "[95782 rows x 3 columns]"
            ]
          },
          "metadata": {
            "tags": []
          },
          "execution_count": 115
        }
      ]
    },
    {
      "cell_type": "markdown",
      "metadata": {
        "id": "q5SlYpHAnN2A"
      },
      "source": [
        "**Popularity Based Recommender System Summmary:** So, If we use the Popularity based recommender System then the Songs that are ranked as above will be displayed as the top n suggestions to the user."
      ]
    },
    {
      "cell_type": "code",
      "metadata": {
        "id": "DH9KO-c1kZ3a"
      },
      "source": [
        ""
      ],
      "execution_count": null,
      "outputs": []
    }
  ]
}
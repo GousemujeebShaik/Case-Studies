{
  "nbformat": 4,
  "nbformat_minor": 0,
  "metadata": {
    "colab": {
      "name": "RecomenderSystem.ipynb",
      "provenance": [],
      "collapsed_sections": [],
      "authorship_tag": "ABX9TyP7LocU5do5tytgijyxLL3i",
      "include_colab_link": true
    },
    "kernelspec": {
      "name": "python3",
      "display_name": "Python 3"
    },
    "language_info": {
      "name": "python"
    }
  },
  "cells": [
    {
      "cell_type": "markdown",
      "metadata": {
        "id": "view-in-github",
        "colab_type": "text"
      },
      "source": [
        "<a href=\"https://colab.research.google.com/github/GousemujeebShaik/Case-Studies/blob/main/RecomenderSystem.ipynb\" target=\"_parent\"><img src=\"https://colab.research.google.com/assets/colab-badge.svg\" alt=\"Open In Colab\"/></a>"
      ]
    },
    {
      "cell_type": "code",
      "metadata": {
        "id": "CiQSMHtf6TEm"
      },
      "source": [
        "# Import section Github\n",
        "import numpy as np\n",
        "import pandas as pd\n",
        "import matplotlib.pyplot as plt\n",
        "import seaborn as sns\n",
        "%matplotlib inline\n",
        "import warnings\n",
        "warnings.filterwarnings('ignore')"
      ],
      "execution_count": 2,
      "outputs": []
    },
    {
      "cell_type": "markdown",
      "metadata": {
        "id": "VEuhpA0BFdeQ"
      },
      "source": [
        "Lets read all the Four DataSets:\n",
        "1. Users: Where we have all the unique UserID's.\n",
        "2. Songs: We have list of all the SongID's\n",
        "3. Triplets: This data set will give the frequency of the Songs listned by user.\n",
        "4. Unique Track: Will give us the details of the Song Artist and release"
      ]
    },
    {
      "cell_type": "code",
      "metadata": {
        "colab": {
          "base_uri": "https://localhost:8080/",
          "height": 203
        },
        "id": "ZMNZ_erFB84W",
        "outputId": "27c147a9-09cc-47fb-857c-501957b2218b"
      },
      "source": [
        "df_user = pd.read_csv('data/kaggle_users.txt', sep='\\t', names=['userid'])\n",
        "df_user.head()"
      ],
      "execution_count": 3,
      "outputs": [
        {
          "output_type": "execute_result",
          "data": {
            "text/html": [
              "<div>\n",
              "<style scoped>\n",
              "    .dataframe tbody tr th:only-of-type {\n",
              "        vertical-align: middle;\n",
              "    }\n",
              "\n",
              "    .dataframe tbody tr th {\n",
              "        vertical-align: top;\n",
              "    }\n",
              "\n",
              "    .dataframe thead th {\n",
              "        text-align: right;\n",
              "    }\n",
              "</style>\n",
              "<table border=\"1\" class=\"dataframe\">\n",
              "  <thead>\n",
              "    <tr style=\"text-align: right;\">\n",
              "      <th></th>\n",
              "      <th>userid</th>\n",
              "    </tr>\n",
              "  </thead>\n",
              "  <tbody>\n",
              "    <tr>\n",
              "      <th>0</th>\n",
              "      <td>fd50c4007b68a3737fe052d5a4f78ce8aa117f3d</td>\n",
              "    </tr>\n",
              "    <tr>\n",
              "      <th>1</th>\n",
              "      <td>d7083f5e1d50c264277d624340edaaf3dc16095b</td>\n",
              "    </tr>\n",
              "    <tr>\n",
              "      <th>2</th>\n",
              "      <td>d68dc6fc25248234590d7668a11e3335534ae4b4</td>\n",
              "    </tr>\n",
              "    <tr>\n",
              "      <th>3</th>\n",
              "      <td>9be82340a8b5ef32357fe5af957ccd54736ece95</td>\n",
              "    </tr>\n",
              "    <tr>\n",
              "      <th>4</th>\n",
              "      <td>841b2394ae3a9febbd6b06497b4a8ee8eb24b7f8</td>\n",
              "    </tr>\n",
              "  </tbody>\n",
              "</table>\n",
              "</div>"
            ],
            "text/plain": [
              "                                     userid\n",
              "0  fd50c4007b68a3737fe052d5a4f78ce8aa117f3d\n",
              "1  d7083f5e1d50c264277d624340edaaf3dc16095b\n",
              "2  d68dc6fc25248234590d7668a11e3335534ae4b4\n",
              "3  9be82340a8b5ef32357fe5af957ccd54736ece95\n",
              "4  841b2394ae3a9febbd6b06497b4a8ee8eb24b7f8"
            ]
          },
          "metadata": {
            "tags": []
          },
          "execution_count": 3
        }
      ]
    },
    {
      "cell_type": "code",
      "metadata": {
        "colab": {
          "base_uri": "https://localhost:8080/",
          "height": 203
        },
        "id": "f8vqhXaACw3f",
        "outputId": "53d4ce07-98e2-4b5f-fa97-319cc5873f34"
      },
      "source": [
        "df_songs = pd.read_csv('data/kaggle_songs.txt', sep=' ', names=['SongID','Sr.No'])\n",
        "df_songs.drop('Sr.No', axis=1, inplace=True)\n",
        "df_songs.head()"
      ],
      "execution_count": 4,
      "outputs": [
        {
          "output_type": "execute_result",
          "data": {
            "text/html": [
              "<div>\n",
              "<style scoped>\n",
              "    .dataframe tbody tr th:only-of-type {\n",
              "        vertical-align: middle;\n",
              "    }\n",
              "\n",
              "    .dataframe tbody tr th {\n",
              "        vertical-align: top;\n",
              "    }\n",
              "\n",
              "    .dataframe thead th {\n",
              "        text-align: right;\n",
              "    }\n",
              "</style>\n",
              "<table border=\"1\" class=\"dataframe\">\n",
              "  <thead>\n",
              "    <tr style=\"text-align: right;\">\n",
              "      <th></th>\n",
              "      <th>SongID</th>\n",
              "    </tr>\n",
              "  </thead>\n",
              "  <tbody>\n",
              "    <tr>\n",
              "      <th>0</th>\n",
              "      <td>SOAAADD12AB018A9DD</td>\n",
              "    </tr>\n",
              "    <tr>\n",
              "      <th>1</th>\n",
              "      <td>SOAAADE12A6D4F80CC</td>\n",
              "    </tr>\n",
              "    <tr>\n",
              "      <th>2</th>\n",
              "      <td>SOAAADF12A8C13DF62</td>\n",
              "    </tr>\n",
              "    <tr>\n",
              "      <th>3</th>\n",
              "      <td>SOAAADZ12A8C1334FB</td>\n",
              "    </tr>\n",
              "    <tr>\n",
              "      <th>4</th>\n",
              "      <td>SOAAAFI12A6D4F9C66</td>\n",
              "    </tr>\n",
              "  </tbody>\n",
              "</table>\n",
              "</div>"
            ],
            "text/plain": [
              "               SongID\n",
              "0  SOAAADD12AB018A9DD\n",
              "1  SOAAADE12A6D4F80CC\n",
              "2  SOAAADF12A8C13DF62\n",
              "3  SOAAADZ12A8C1334FB\n",
              "4  SOAAAFI12A6D4F9C66"
            ]
          },
          "metadata": {
            "tags": []
          },
          "execution_count": 4
        }
      ]
    },
    {
      "cell_type": "code",
      "metadata": {
        "id": "qV2lQH_66fH6",
        "colab": {
          "base_uri": "https://localhost:8080/",
          "height": 203
        },
        "outputId": "31a01d46-55b1-4e9f-d0f8-ee9dededa143"
      },
      "source": [
        "df_triplet = pd.read_csv('data/kaggle_visible_evaluation_triplets.txt', sep='\\t', names=['Userid', 'Songid','Freq'])\n",
        "df_triplet.head()"
      ],
      "execution_count": 5,
      "outputs": [
        {
          "output_type": "execute_result",
          "data": {
            "text/html": [
              "<div>\n",
              "<style scoped>\n",
              "    .dataframe tbody tr th:only-of-type {\n",
              "        vertical-align: middle;\n",
              "    }\n",
              "\n",
              "    .dataframe tbody tr th {\n",
              "        vertical-align: top;\n",
              "    }\n",
              "\n",
              "    .dataframe thead th {\n",
              "        text-align: right;\n",
              "    }\n",
              "</style>\n",
              "<table border=\"1\" class=\"dataframe\">\n",
              "  <thead>\n",
              "    <tr style=\"text-align: right;\">\n",
              "      <th></th>\n",
              "      <th>Userid</th>\n",
              "      <th>Songid</th>\n",
              "      <th>Freq</th>\n",
              "    </tr>\n",
              "  </thead>\n",
              "  <tbody>\n",
              "    <tr>\n",
              "      <th>0</th>\n",
              "      <td>fd50c4007b68a3737fe052d5a4f78ce8aa117f3d</td>\n",
              "      <td>SOBONKR12A58A7A7E0</td>\n",
              "      <td>1</td>\n",
              "    </tr>\n",
              "    <tr>\n",
              "      <th>1</th>\n",
              "      <td>fd50c4007b68a3737fe052d5a4f78ce8aa117f3d</td>\n",
              "      <td>SOEGIYH12A6D4FC0E3</td>\n",
              "      <td>1</td>\n",
              "    </tr>\n",
              "    <tr>\n",
              "      <th>2</th>\n",
              "      <td>fd50c4007b68a3737fe052d5a4f78ce8aa117f3d</td>\n",
              "      <td>SOFLJQZ12A6D4FADA6</td>\n",
              "      <td>1</td>\n",
              "    </tr>\n",
              "    <tr>\n",
              "      <th>3</th>\n",
              "      <td>fd50c4007b68a3737fe052d5a4f78ce8aa117f3d</td>\n",
              "      <td>SOHTKMO12AB01843B0</td>\n",
              "      <td>1</td>\n",
              "    </tr>\n",
              "    <tr>\n",
              "      <th>4</th>\n",
              "      <td>fd50c4007b68a3737fe052d5a4f78ce8aa117f3d</td>\n",
              "      <td>SODQZCY12A6D4F9D11</td>\n",
              "      <td>1</td>\n",
              "    </tr>\n",
              "  </tbody>\n",
              "</table>\n",
              "</div>"
            ],
            "text/plain": [
              "                                     Userid              Songid  Freq\n",
              "0  fd50c4007b68a3737fe052d5a4f78ce8aa117f3d  SOBONKR12A58A7A7E0     1\n",
              "1  fd50c4007b68a3737fe052d5a4f78ce8aa117f3d  SOEGIYH12A6D4FC0E3     1\n",
              "2  fd50c4007b68a3737fe052d5a4f78ce8aa117f3d  SOFLJQZ12A6D4FADA6     1\n",
              "3  fd50c4007b68a3737fe052d5a4f78ce8aa117f3d  SOHTKMO12AB01843B0     1\n",
              "4  fd50c4007b68a3737fe052d5a4f78ce8aa117f3d  SODQZCY12A6D4F9D11     1"
            ]
          },
          "metadata": {
            "tags": []
          },
          "execution_count": 5
        }
      ]
    },
    {
      "cell_type": "code",
      "metadata": {
        "colab": {
          "base_uri": "https://localhost:8080/",
          "height": 203
        },
        "id": "nvNpm7sRDvME",
        "outputId": "2853e26a-e05f-4812-a5f7-8001939ef331"
      },
      "source": [
        "df_uniquetrack = pd.read_csv('data/unique_tracks.txt', sep='<SEP>', names=['Trackid', 'Songid','ArtistName','Release'])\n",
        "df_uniquetrack.head()"
      ],
      "execution_count": 6,
      "outputs": [
        {
          "output_type": "execute_result",
          "data": {
            "text/html": [
              "<div>\n",
              "<style scoped>\n",
              "    .dataframe tbody tr th:only-of-type {\n",
              "        vertical-align: middle;\n",
              "    }\n",
              "\n",
              "    .dataframe tbody tr th {\n",
              "        vertical-align: top;\n",
              "    }\n",
              "\n",
              "    .dataframe thead th {\n",
              "        text-align: right;\n",
              "    }\n",
              "</style>\n",
              "<table border=\"1\" class=\"dataframe\">\n",
              "  <thead>\n",
              "    <tr style=\"text-align: right;\">\n",
              "      <th></th>\n",
              "      <th>Trackid</th>\n",
              "      <th>Songid</th>\n",
              "      <th>ArtistName</th>\n",
              "      <th>Release</th>\n",
              "    </tr>\n",
              "  </thead>\n",
              "  <tbody>\n",
              "    <tr>\n",
              "      <th>0</th>\n",
              "      <td>TRMMMYQ128F932D901</td>\n",
              "      <td>SOQMMHC12AB0180CB8</td>\n",
              "      <td>Faster Pussy cat</td>\n",
              "      <td>Silent Night</td>\n",
              "    </tr>\n",
              "    <tr>\n",
              "      <th>1</th>\n",
              "      <td>TRMMMKD128F425225D</td>\n",
              "      <td>SOVFVAK12A8C1350D9</td>\n",
              "      <td>Karkkiautomaatti</td>\n",
              "      <td>Tanssi vaan</td>\n",
              "    </tr>\n",
              "    <tr>\n",
              "      <th>2</th>\n",
              "      <td>TRMMMRX128F93187D9</td>\n",
              "      <td>SOGTUKN12AB017F4F1</td>\n",
              "      <td>Hudson Mohawke</td>\n",
              "      <td>No One Could Ever</td>\n",
              "    </tr>\n",
              "    <tr>\n",
              "      <th>3</th>\n",
              "      <td>TRMMMCH128F425532C</td>\n",
              "      <td>SOBNYVR12A8C13558C</td>\n",
              "      <td>Yerba Brava</td>\n",
              "      <td>Si Vos Querés</td>\n",
              "    </tr>\n",
              "    <tr>\n",
              "      <th>4</th>\n",
              "      <td>TRMMMWA128F426B589</td>\n",
              "      <td>SOHSBXH12A8C13B0DF</td>\n",
              "      <td>Der Mystic</td>\n",
              "      <td>Tangle Of Aspens</td>\n",
              "    </tr>\n",
              "  </tbody>\n",
              "</table>\n",
              "</div>"
            ],
            "text/plain": [
              "              Trackid              Songid        ArtistName            Release\n",
              "0  TRMMMYQ128F932D901  SOQMMHC12AB0180CB8  Faster Pussy cat       Silent Night\n",
              "1  TRMMMKD128F425225D  SOVFVAK12A8C1350D9  Karkkiautomaatti        Tanssi vaan\n",
              "2  TRMMMRX128F93187D9  SOGTUKN12AB017F4F1    Hudson Mohawke  No One Could Ever\n",
              "3  TRMMMCH128F425532C  SOBNYVR12A8C13558C       Yerba Brava      Si Vos Querés\n",
              "4  TRMMMWA128F426B589  SOHSBXH12A8C13B0DF        Der Mystic   Tangle Of Aspens"
            ]
          },
          "metadata": {
            "tags": []
          },
          "execution_count": 6
        }
      ]
    },
    {
      "cell_type": "markdown",
      "metadata": {
        "id": "6UUmcAbAGA1l"
      },
      "source": [
        "Now that all the Data is available, let's start with the EDA Analysis"
      ]
    },
    {
      "cell_type": "markdown",
      "metadata": {
        "id": "KigpRWtjGOqp"
      },
      "source": [
        "Merge both the Triplets and Unique Track dataset on the Song ID columns."
      ]
    },
    {
      "cell_type": "code",
      "metadata": {
        "colab": {
          "base_uri": "https://localhost:8080/",
          "height": 203
        },
        "id": "MH48GB-kGNHL",
        "outputId": "8edbded3-a6a2-4aff-cd01-84b41c08ea36"
      },
      "source": [
        "df_merge=pd.merge(df_triplet,df_uniquetrack, how='left')\n",
        "df_merge.tail()"
      ],
      "execution_count": 24,
      "outputs": [
        {
          "output_type": "execute_result",
          "data": {
            "text/html": [
              "<div>\n",
              "<style scoped>\n",
              "    .dataframe tbody tr th:only-of-type {\n",
              "        vertical-align: middle;\n",
              "    }\n",
              "\n",
              "    .dataframe tbody tr th {\n",
              "        vertical-align: top;\n",
              "    }\n",
              "\n",
              "    .dataframe thead th {\n",
              "        text-align: right;\n",
              "    }\n",
              "</style>\n",
              "<table border=\"1\" class=\"dataframe\">\n",
              "  <thead>\n",
              "    <tr style=\"text-align: right;\">\n",
              "      <th></th>\n",
              "      <th>Userid</th>\n",
              "      <th>Songid</th>\n",
              "      <th>Freq</th>\n",
              "      <th>Trackid</th>\n",
              "      <th>ArtistName</th>\n",
              "      <th>Release</th>\n",
              "    </tr>\n",
              "  </thead>\n",
              "  <tbody>\n",
              "    <tr>\n",
              "      <th>1491947</th>\n",
              "      <td>5e650759ebf89012044c6d52121eeada8b0ec814</td>\n",
              "      <td>SOVLNXV12A6D4F706E</td>\n",
              "      <td>1</td>\n",
              "      <td>TRPLXFD128F1454961</td>\n",
              "      <td>Mos Def</td>\n",
              "      <td>Ms. Fat Booty</td>\n",
              "    </tr>\n",
              "    <tr>\n",
              "      <th>1491948</th>\n",
              "      <td>5e650759ebf89012044c6d52121eeada8b0ec814</td>\n",
              "      <td>SOVDSJC12A58A7A271</td>\n",
              "      <td>2</td>\n",
              "      <td>TRRBUQL12903CCE501</td>\n",
              "      <td>Sam Cooke</td>\n",
              "      <td>Ain't Misbehavin</td>\n",
              "    </tr>\n",
              "    <tr>\n",
              "      <th>1491949</th>\n",
              "      <td>5e650759ebf89012044c6d52121eeada8b0ec814</td>\n",
              "      <td>SOBRHVR12A8C133F35</td>\n",
              "      <td>2</td>\n",
              "      <td>TRHNKAU128F9300856</td>\n",
              "      <td>Southside Spinners</td>\n",
              "      <td>Luvstruck</td>\n",
              "    </tr>\n",
              "    <tr>\n",
              "      <th>1491950</th>\n",
              "      <td>5e650759ebf89012044c6d52121eeada8b0ec814</td>\n",
              "      <td>SOMGVYU12A8C1314FF</td>\n",
              "      <td>2</td>\n",
              "      <td>TRDULYN128F4248762</td>\n",
              "      <td>J. Karjalainen &amp; Mustat Lasit</td>\n",
              "      <td>Sinisten tähtien alla</td>\n",
              "    </tr>\n",
              "    <tr>\n",
              "      <th>1491951</th>\n",
              "      <td>5e650759ebf89012044c6d52121eeada8b0ec814</td>\n",
              "      <td>SOTCMDJ12A6D4F8528</td>\n",
              "      <td>3</td>\n",
              "      <td>TRZJNDO128EF343498</td>\n",
              "      <td>Angels and Airwaves</td>\n",
              "      <td>The Gift</td>\n",
              "    </tr>\n",
              "  </tbody>\n",
              "</table>\n",
              "</div>"
            ],
            "text/plain": [
              "                                           Userid  ...                Release\n",
              "1491947  5e650759ebf89012044c6d52121eeada8b0ec814  ...          Ms. Fat Booty\n",
              "1491948  5e650759ebf89012044c6d52121eeada8b0ec814  ...       Ain't Misbehavin\n",
              "1491949  5e650759ebf89012044c6d52121eeada8b0ec814  ...              Luvstruck\n",
              "1491950  5e650759ebf89012044c6d52121eeada8b0ec814  ...  Sinisten tähtien alla\n",
              "1491951  5e650759ebf89012044c6d52121eeada8b0ec814  ...               The Gift\n",
              "\n",
              "[5 rows x 6 columns]"
            ]
          },
          "metadata": {
            "tags": []
          },
          "execution_count": 24
        }
      ]
    },
    {
      "cell_type": "code",
      "metadata": {
        "colab": {
          "base_uri": "https://localhost:8080/",
          "height": 282
        },
        "id": "Z2XcdxKXEOTI",
        "outputId": "436e3034-95e5-44c1-d96c-ae0b6ce51904"
      },
      "source": [
        "sns.heatmap(df_merge.isnull(),yticklabels=False,cbar=False)"
      ],
      "execution_count": 8,
      "outputs": [
        {
          "output_type": "execute_result",
          "data": {
            "text/plain": [
              "<matplotlib.axes._subplots.AxesSubplot at 0x7fb972673290>"
            ]
          },
          "metadata": {
            "tags": []
          },
          "execution_count": 8
        },
        {
          "output_type": "display_data",
          "data": {
            "image/png": "[encoded data removed]",
            "text/plain": [
              "<Figure size 432x288 with 1 Axes>"
            ]
          },
          "metadata": {
            "tags": [],
            "needs_background": "light"
          }
        }
      ]
    },
    {
      "cell_type": "code",
      "metadata": {
        "colab": {
          "base_uri": "https://localhost:8080/"
        },
        "id": "Uy8tK9JsJvUH",
        "outputId": "1e4bef31-c962-4773-8a8c-c95d15b487d3"
      },
      "source": [
        "df_merge.isnull().sum()"
      ],
      "execution_count": 25,
      "outputs": [
        {
          "output_type": "execute_result",
          "data": {
            "text/plain": [
              "Userid        0\n",
              "Songid        0\n",
              "Freq          0\n",
              "Trackid       0\n",
              "ArtistName    0\n",
              "Release       1\n",
              "dtype: int64"
            ]
          },
          "metadata": {
            "tags": []
          },
          "execution_count": 25
        }
      ]
    },
    {
      "cell_type": "code",
      "metadata": {
        "id": "iMOMU1VJKImu"
      },
      "source": [
        "df_merge['Freq'].fillna(0,inplace=True)"
      ],
      "execution_count": 9,
      "outputs": []
    },
    {
      "cell_type": "code",
      "metadata": {
        "colab": {
          "base_uri": "https://localhost:8080/",
          "height": 203
        },
        "id": "oFT9dKieKVi4",
        "outputId": "616ed4f9-953e-46d8-9744-4b34c57e05d4"
      },
      "source": [
        "df_merge.tail()"
      ],
      "execution_count": 23,
      "outputs": [
        {
          "output_type": "execute_result",
          "data": {
            "text/html": [
              "<div>\n",
              "<style scoped>\n",
              "    .dataframe tbody tr th:only-of-type {\n",
              "        vertical-align: middle;\n",
              "    }\n",
              "\n",
              "    .dataframe tbody tr th {\n",
              "        vertical-align: top;\n",
              "    }\n",
              "\n",
              "    .dataframe thead th {\n",
              "        text-align: right;\n",
              "    }\n",
              "</style>\n",
              "<table border=\"1\" class=\"dataframe\">\n",
              "  <thead>\n",
              "    <tr style=\"text-align: right;\">\n",
              "      <th></th>\n",
              "      <th>Userid</th>\n",
              "      <th>Songid</th>\n",
              "      <th>Freq</th>\n",
              "      <th>ArtistName</th>\n",
              "      <th>Release</th>\n",
              "    </tr>\n",
              "  </thead>\n",
              "  <tbody>\n",
              "    <tr>\n",
              "      <th>1491947</th>\n",
              "      <td>5e650759ebf89012044c6d52121eeada8b0ec814</td>\n",
              "      <td>SOVLNXV12A6D4F706E</td>\n",
              "      <td>1</td>\n",
              "      <td>Mos Def</td>\n",
              "      <td>Ms. Fat Booty</td>\n",
              "    </tr>\n",
              "    <tr>\n",
              "      <th>1491948</th>\n",
              "      <td>5e650759ebf89012044c6d52121eeada8b0ec814</td>\n",
              "      <td>SOVDSJC12A58A7A271</td>\n",
              "      <td>2</td>\n",
              "      <td>Sam Cooke</td>\n",
              "      <td>Ain't Misbehavin</td>\n",
              "    </tr>\n",
              "    <tr>\n",
              "      <th>1491949</th>\n",
              "      <td>5e650759ebf89012044c6d52121eeada8b0ec814</td>\n",
              "      <td>SOBRHVR12A8C133F35</td>\n",
              "      <td>2</td>\n",
              "      <td>Southside Spinners</td>\n",
              "      <td>Luvstruck</td>\n",
              "    </tr>\n",
              "    <tr>\n",
              "      <th>1491950</th>\n",
              "      <td>5e650759ebf89012044c6d52121eeada8b0ec814</td>\n",
              "      <td>SOMGVYU12A8C1314FF</td>\n",
              "      <td>2</td>\n",
              "      <td>J. Karjalainen &amp; Mustat Lasit</td>\n",
              "      <td>Sinisten tähtien alla</td>\n",
              "    </tr>\n",
              "    <tr>\n",
              "      <th>1491951</th>\n",
              "      <td>5e650759ebf89012044c6d52121eeada8b0ec814</td>\n",
              "      <td>SOTCMDJ12A6D4F8528</td>\n",
              "      <td>3</td>\n",
              "      <td>Angels and Airwaves</td>\n",
              "      <td>The Gift</td>\n",
              "    </tr>\n",
              "  </tbody>\n",
              "</table>\n",
              "</div>"
            ],
            "text/plain": [
              "                                           Userid  ...                Release\n",
              "1491947  5e650759ebf89012044c6d52121eeada8b0ec814  ...          Ms. Fat Booty\n",
              "1491948  5e650759ebf89012044c6d52121eeada8b0ec814  ...       Ain't Misbehavin\n",
              "1491949  5e650759ebf89012044c6d52121eeada8b0ec814  ...              Luvstruck\n",
              "1491950  5e650759ebf89012044c6d52121eeada8b0ec814  ...  Sinisten tähtien alla\n",
              "1491951  5e650759ebf89012044c6d52121eeada8b0ec814  ...               The Gift\n",
              "\n",
              "[5 rows x 5 columns]"
            ]
          },
          "metadata": {
            "tags": []
          },
          "execution_count": 23
        }
      ]
    },
    {
      "cell_type": "markdown",
      "metadata": {
        "id": "fB5ESwlFSTYM"
      },
      "source": [
        "As the Song ID and the Track ID serve the same purpose we can drop any one"
      ]
    },
    {
      "cell_type": "code",
      "metadata": {
        "id": "QkkjiMM6L1md"
      },
      "source": [
        "df_merge.drop('Trackid',axis=1, inplace=True)"
      ],
      "execution_count": 11,
      "outputs": []
    },
    {
      "cell_type": "code",
      "metadata": {
        "colab": {
          "base_uri": "https://localhost:8080/",
          "height": 203
        },
        "id": "QzXqKDXsLUQf",
        "outputId": "e33d7cfb-5a12-4161-8b0f-5e1b4f66e3c2"
      },
      "source": [
        "   df_merge.head()"
      ],
      "execution_count": 12,
      "outputs": [
        {
          "output_type": "execute_result",
          "data": {
            "text/html": [
              "<div>\n",
              "<style scoped>\n",
              "    .dataframe tbody tr th:only-of-type {\n",
              "        vertical-align: middle;\n",
              "    }\n",
              "\n",
              "    .dataframe tbody tr th {\n",
              "        vertical-align: top;\n",
              "    }\n",
              "\n",
              "    .dataframe thead th {\n",
              "        text-align: right;\n",
              "    }\n",
              "</style>\n",
              "<table border=\"1\" class=\"dataframe\">\n",
              "  <thead>\n",
              "    <tr style=\"text-align: right;\">\n",
              "      <th></th>\n",
              "      <th>Userid</th>\n",
              "      <th>Songid</th>\n",
              "      <th>Freq</th>\n",
              "      <th>ArtistName</th>\n",
              "      <th>Release</th>\n",
              "    </tr>\n",
              "  </thead>\n",
              "  <tbody>\n",
              "    <tr>\n",
              "      <th>0</th>\n",
              "      <td>fd50c4007b68a3737fe052d5a4f78ce8aa117f3d</td>\n",
              "      <td>SOBONKR12A58A7A7E0</td>\n",
              "      <td>1</td>\n",
              "      <td>Dwight Yoakam</td>\n",
              "      <td>You're The One</td>\n",
              "    </tr>\n",
              "    <tr>\n",
              "      <th>1</th>\n",
              "      <td>fd50c4007b68a3737fe052d5a4f78ce8aa117f3d</td>\n",
              "      <td>SOEGIYH12A6D4FC0E3</td>\n",
              "      <td>1</td>\n",
              "      <td>Barry Tuckwell/Academy of St Martin-in-the-Fie...</td>\n",
              "      <td>Horn Concerto No. 4 in E flat K495: II. Romanc...</td>\n",
              "    </tr>\n",
              "    <tr>\n",
              "      <th>2</th>\n",
              "      <td>fd50c4007b68a3737fe052d5a4f78ce8aa117f3d</td>\n",
              "      <td>SOFLJQZ12A6D4FADA6</td>\n",
              "      <td>1</td>\n",
              "      <td>Cartola</td>\n",
              "      <td>Tive Sim</td>\n",
              "    </tr>\n",
              "    <tr>\n",
              "      <th>3</th>\n",
              "      <td>fd50c4007b68a3737fe052d5a4f78ce8aa117f3d</td>\n",
              "      <td>SOHTKMO12AB01843B0</td>\n",
              "      <td>1</td>\n",
              "      <td>Lonnie Gordon</td>\n",
              "      <td>Catch You Baby (Steve Pitron &amp; Max Sanna Radio...</td>\n",
              "    </tr>\n",
              "    <tr>\n",
              "      <th>4</th>\n",
              "      <td>fd50c4007b68a3737fe052d5a4f78ce8aa117f3d</td>\n",
              "      <td>SODQZCY12A6D4F9D11</td>\n",
              "      <td>1</td>\n",
              "      <td>Miguel Calo</td>\n",
              "      <td>El Cuatrero</td>\n",
              "    </tr>\n",
              "  </tbody>\n",
              "</table>\n",
              "</div>"
            ],
            "text/plain": [
              "                                     Userid  ...                                            Release\n",
              "0  fd50c4007b68a3737fe052d5a4f78ce8aa117f3d  ...                                     You're The One\n",
              "1  fd50c4007b68a3737fe052d5a4f78ce8aa117f3d  ...  Horn Concerto No. 4 in E flat K495: II. Romanc...\n",
              "2  fd50c4007b68a3737fe052d5a4f78ce8aa117f3d  ...                                           Tive Sim\n",
              "3  fd50c4007b68a3737fe052d5a4f78ce8aa117f3d  ...  Catch You Baby (Steve Pitron & Max Sanna Radio...\n",
              "4  fd50c4007b68a3737fe052d5a4f78ce8aa117f3d  ...                                        El Cuatrero\n",
              "\n",
              "[5 rows x 5 columns]"
            ]
          },
          "metadata": {
            "tags": []
          },
          "execution_count": 12
        }
      ]
    },
    {
      "cell_type": "code",
      "metadata": {
        "colab": {
          "base_uri": "https://localhost:8080/"
        },
        "id": "i71kiG7xSu1i",
        "outputId": "ac820edb-d0b8-4761-9467-534d5df1d708"
      },
      "source": [
        "df_merge.shape"
      ],
      "execution_count": 13,
      "outputs": [
        {
          "output_type": "execute_result",
          "data": {
            "text/plain": [
              "(1491952, 5)"
            ]
          },
          "metadata": {
            "tags": []
          },
          "execution_count": 13
        }
      ]
    },
    {
      "cell_type": "code",
      "metadata": {
        "colab": {
          "base_uri": "https://localhost:8080/"
        },
        "id": "ihnvDigpSxXF",
        "outputId": "91d7532f-6457-42f2-f4ab-9d26bf2cdc1f"
      },
      "source": [
        "print(\"The Total Songs Listened are {}\".format(df_merge.shape[0]))\n",
        "print(\"The Total number of Users are {}\".format(df_merge['Userid'].nunique()))\n",
        "print(\"The Total number of Songs are {}\".format(df_merge['Songid'].nunique()))\n",
        "print(\"The Total number of Artists are {}\".format(df_merge['ArtistName'].nunique()))\n",
        "print(\"The Total number of Release are {}\".format(df_merge['Release'].nunique()))"
      ],
      "execution_count": 14,
      "outputs": [
        {
          "output_type": "stream",
          "text": [
            "The Total Songs Listened are 1491952\n",
            "The Total number of Users are 110000\n",
            "The Total number of Songs are 163206\n",
            "The Total number of Artists are 28367\n",
            "The Total number of Release are 137670\n"
          ],
          "name": "stdout"
        }
      ]
    },
    {
      "cell_type": "markdown",
      "metadata": {
        "id": "oeM6tncKTqc9"
      },
      "source": [
        "Feature User ID"
      ]
    },
    {
      "cell_type": "code",
      "metadata": {
        "colab": {
          "base_uri": "https://localhost:8080/"
        },
        "id": "xb8x_fYMTDIS",
        "outputId": "f16ecae4-7dd4-4cd9-bc3c-e003c786f11c"
      },
      "source": [
        "df_merge['Userid'].value_counts()"
      ],
      "execution_count": 15,
      "outputs": [
        {
          "output_type": "execute_result",
          "data": {
            "text/plain": [
              "316110734d8da7478cc33237458814f770a9eb7a    57\n",
              "ad4b2717e89766b66b96fe52a38736116e315874    57\n",
              "3233c598c50f0ddbd351504e773cd51de79691db    55\n",
              "d30e18323f15426c3cdc8585252ed34459916f51    55\n",
              "9b0f827c8bad0cf089b0d778307e1b390f463730    54\n",
              "                                            ..\n",
              "e64fc57fa91fc040a92e5fdafa9a5d0fd53b1ff9     5\n",
              "8171a26ee9605d943f2eb350164d80c8de44e691     5\n",
              "e9ad0f675aedcc61b55049f8b5090e35c3d47d40     5\n",
              "708f06d1c99ca8d6cf511bb53b4bc035080d1d57     5\n",
              "f06a4b7855b255020a27b4fae0fa3dfd8f15485f     5\n",
              "Name: Userid, Length: 110000, dtype: int64"
            ]
          },
          "metadata": {
            "tags": []
          },
          "execution_count": 15
        }
      ]
    },
    {
      "cell_type": "markdown",
      "metadata": {
        "id": "sxnL9NA5Xl00"
      },
      "source": [
        "Below are the Top five Users, that listned the Songs Most"
      ]
    },
    {
      "cell_type": "code",
      "metadata": {
        "colab": {
          "base_uri": "https://localhost:8080/",
          "height": 234
        },
        "id": "uydKFjQQUqib",
        "outputId": "c29dea36-a8ae-451f-facf-abcc24f411f0"
      },
      "source": [
        "df_merge[['Userid','Freq']].groupby(['Userid'],sort=True).sum().sort_values(['Freq'], ascending=False).head(5)"
      ],
      "execution_count": 21,
      "outputs": [
        {
          "output_type": "execute_result",
          "data": {
            "text/html": [
              "<div>\n",
              "<style scoped>\n",
              "    .dataframe tbody tr th:only-of-type {\n",
              "        vertical-align: middle;\n",
              "    }\n",
              "\n",
              "    .dataframe tbody tr th {\n",
              "        vertical-align: top;\n",
              "    }\n",
              "\n",
              "    .dataframe thead th {\n",
              "        text-align: right;\n",
              "    }\n",
              "</style>\n",
              "<table border=\"1\" class=\"dataframe\">\n",
              "  <thead>\n",
              "    <tr style=\"text-align: right;\">\n",
              "      <th></th>\n",
              "      <th>Freq</th>\n",
              "    </tr>\n",
              "    <tr>\n",
              "      <th>Userid</th>\n",
              "      <th></th>\n",
              "    </tr>\n",
              "  </thead>\n",
              "  <tbody>\n",
              "    <tr>\n",
              "      <th>938c2632d43eeadb8a83a7cc254d014f9cea6afe</th>\n",
              "      <td>1369</td>\n",
              "    </tr>\n",
              "    <tr>\n",
              "      <th>090b841eaf56d343a26625c2c6d08b823927bc4f</th>\n",
              "      <td>1305</td>\n",
              "    </tr>\n",
              "    <tr>\n",
              "      <th>1c5aa998482a40abfd020759e7d757eb6c510e72</th>\n",
              "      <td>1213</td>\n",
              "    </tr>\n",
              "    <tr>\n",
              "      <th>c6150292374fb1dad89982367b3245dd5004c718</th>\n",
              "      <td>1192</td>\n",
              "    </tr>\n",
              "    <tr>\n",
              "      <th>957440a77858369fb7a6bcc6fa408fc187d5bd7b</th>\n",
              "      <td>1187</td>\n",
              "    </tr>\n",
              "  </tbody>\n",
              "</table>\n",
              "</div>"
            ],
            "text/plain": [
              "                                          Freq\n",
              "Userid                                        \n",
              "938c2632d43eeadb8a83a7cc254d014f9cea6afe  1369\n",
              "090b841eaf56d343a26625c2c6d08b823927bc4f  1305\n",
              "1c5aa998482a40abfd020759e7d757eb6c510e72  1213\n",
              "c6150292374fb1dad89982367b3245dd5004c718  1192\n",
              "957440a77858369fb7a6bcc6fa408fc187d5bd7b  1187"
            ]
          },
          "metadata": {
            "tags": []
          },
          "execution_count": 21
        }
      ]
    },
    {
      "cell_type": "markdown",
      "metadata": {
        "id": "Qev5bnMLXyIw"
      },
      "source": [
        "Below are the Least Five Users that listned the Song less"
      ]
    },
    {
      "cell_type": "code",
      "metadata": {
        "colab": {
          "base_uri": "https://localhost:8080/",
          "height": 234
        },
        "id": "jFygb0xuWkbo",
        "outputId": "1fb37b7c-a768-4fb8-a112-6678ebf89066"
      },
      "source": [
        "df_merge[['Userid','Freq']].groupby(['Userid'],sort=True).sum().sort_values(['Freq'], ascending=True).head(5)"
      ],
      "execution_count": 22,
      "outputs": [
        {
          "output_type": "execute_result",
          "data": {
            "text/html": [
              "<div>\n",
              "<style scoped>\n",
              "    .dataframe tbody tr th:only-of-type {\n",
              "        vertical-align: middle;\n",
              "    }\n",
              "\n",
              "    .dataframe tbody tr th {\n",
              "        vertical-align: top;\n",
              "    }\n",
              "\n",
              "    .dataframe thead th {\n",
              "        text-align: right;\n",
              "    }\n",
              "</style>\n",
              "<table border=\"1\" class=\"dataframe\">\n",
              "  <thead>\n",
              "    <tr style=\"text-align: right;\">\n",
              "      <th></th>\n",
              "      <th>Freq</th>\n",
              "    </tr>\n",
              "    <tr>\n",
              "      <th>Userid</th>\n",
              "      <th></th>\n",
              "    </tr>\n",
              "  </thead>\n",
              "  <tbody>\n",
              "    <tr>\n",
              "      <th>1858b9d771784f35b11587d4848604d5686e2e6a</th>\n",
              "      <td>5</td>\n",
              "    </tr>\n",
              "    <tr>\n",
              "      <th>105e070c30b924ad8c12dfc93879510fffce9e9f</th>\n",
              "      <td>5</td>\n",
              "    </tr>\n",
              "    <tr>\n",
              "      <th>473faa31a070d046588438a24838ee2ea59ba75a</th>\n",
              "      <td>5</td>\n",
              "    </tr>\n",
              "    <tr>\n",
              "      <th>4117443d6ef69fdf555b736782bed19a2bf73218</th>\n",
              "      <td>5</td>\n",
              "    </tr>\n",
              "    <tr>\n",
              "      <th>23a0d4a8ba71eef8abd4e4e4dd83060952c703f7</th>\n",
              "      <td>5</td>\n",
              "    </tr>\n",
              "  </tbody>\n",
              "</table>\n",
              "</div>"
            ],
            "text/plain": [
              "                                          Freq\n",
              "Userid                                        \n",
              "1858b9d771784f35b11587d4848604d5686e2e6a     5\n",
              "105e070c30b924ad8c12dfc93879510fffce9e9f     5\n",
              "473faa31a070d046588438a24838ee2ea59ba75a     5\n",
              "4117443d6ef69fdf555b736782bed19a2bf73218     5\n",
              "23a0d4a8ba71eef8abd4e4e4dd83060952c703f7     5"
            ]
          },
          "metadata": {
            "tags": []
          },
          "execution_count": 22
        }
      ]
    },
    {
      "cell_type": "markdown",
      "metadata": {
        "id": "3Q38xfmrbx2Z"
      },
      "source": [
        "Below are the Top Five More Listned Songs"
      ]
    },
    {
      "cell_type": "code",
      "metadata": {
        "colab": {
          "base_uri": "https://localhost:8080/",
          "height": 203
        },
        "id": "_DhnOMq9Zgnb",
        "outputId": "583e4bf1-a344-4552-ca2f-b75dcd790b35"
      },
      "source": [
        "df_merge[['Userid','Songid']].groupby(['Songid'])['Songid'].count().reset_index(name='count').sort_values(['count'], ascending=False).head(5)"
      ],
      "execution_count": 26,
      "outputs": [
        {
          "output_type": "execute_result",
          "data": {
            "text/html": [
              "<div>\n",
              "<style scoped>\n",
              "    .dataframe tbody tr th:only-of-type {\n",
              "        vertical-align: middle;\n",
              "    }\n",
              "\n",
              "    .dataframe tbody tr th {\n",
              "        vertical-align: top;\n",
              "    }\n",
              "\n",
              "    .dataframe thead th {\n",
              "        text-align: right;\n",
              "    }\n",
              "</style>\n",
              "<table border=\"1\" class=\"dataframe\">\n",
              "  <thead>\n",
              "    <tr style=\"text-align: right;\">\n",
              "      <th></th>\n",
              "      <th>Songid</th>\n",
              "      <th>count</th>\n",
              "    </tr>\n",
              "  </thead>\n",
              "  <tbody>\n",
              "    <tr>\n",
              "      <th>38185</th>\n",
              "      <td>SOFRQTD12A81C233C0</td>\n",
              "      <td>5043</td>\n",
              "    </tr>\n",
              "    <tr>\n",
              "      <th>5478</th>\n",
              "      <td>SOAUWYT12A81C206F1</td>\n",
              "      <td>4483</td>\n",
              "    </tr>\n",
              "    <tr>\n",
              "      <th>10546</th>\n",
              "      <td>SOBONKR12A58A7A7E0</td>\n",
              "      <td>4136</td>\n",
              "    </tr>\n",
              "    <tr>\n",
              "      <th>140446</th>\n",
              "      <td>SOWCKVR12A8C142411</td>\n",
              "      <td>3822</td>\n",
              "    </tr>\n",
              "    <tr>\n",
              "      <th>6096</th>\n",
              "      <td>SOAXGDH12A8C13F8A1</td>\n",
              "      <td>3780</td>\n",
              "    </tr>\n",
              "  </tbody>\n",
              "</table>\n",
              "</div>"
            ],
            "text/plain": [
              "                    Songid  count\n",
              "38185   SOFRQTD12A81C233C0   5043\n",
              "5478    SOAUWYT12A81C206F1   4483\n",
              "10546   SOBONKR12A58A7A7E0   4136\n",
              "140446  SOWCKVR12A8C142411   3822\n",
              "6096    SOAXGDH12A8C13F8A1   3780"
            ]
          },
          "metadata": {
            "tags": []
          },
          "execution_count": 26
        }
      ]
    },
    {
      "cell_type": "markdown",
      "metadata": {
        "id": "i6Z0M-S2b7OA"
      },
      "source": [
        "Below are the Top Five Least Listned Songs"
      ]
    },
    {
      "cell_type": "code",
      "metadata": {
        "colab": {
          "base_uri": "https://localhost:8080/",
          "height": 203
        },
        "id": "a9dD_DvoYERa",
        "outputId": "3da551ec-f92a-4050-f2dc-deb32846dbb8"
      },
      "source": [
        "df_merge[['Userid','Songid']].groupby(['Songid'])['Songid'].count().reset_index(name='count').sort_values(['count'], ascending=True).head(5)"
      ],
      "execution_count": 27,
      "outputs": [
        {
          "output_type": "execute_result",
          "data": {
            "text/html": [
              "<div>\n",
              "<style scoped>\n",
              "    .dataframe tbody tr th:only-of-type {\n",
              "        vertical-align: middle;\n",
              "    }\n",
              "\n",
              "    .dataframe tbody tr th {\n",
              "        vertical-align: top;\n",
              "    }\n",
              "\n",
              "    .dataframe thead th {\n",
              "        text-align: right;\n",
              "    }\n",
              "</style>\n",
              "<table border=\"1\" class=\"dataframe\">\n",
              "  <thead>\n",
              "    <tr style=\"text-align: right;\">\n",
              "      <th></th>\n",
              "      <th>Songid</th>\n",
              "      <th>count</th>\n",
              "    </tr>\n",
              "  </thead>\n",
              "  <tbody>\n",
              "    <tr>\n",
              "      <th>121078</th>\n",
              "      <td>SOSVEKO12AB01884A5</td>\n",
              "      <td>1</td>\n",
              "    </tr>\n",
              "    <tr>\n",
              "      <th>109853</th>\n",
              "      <td>SOQYUKJ12A8C137555</td>\n",
              "      <td>1</td>\n",
              "    </tr>\n",
              "    <tr>\n",
              "      <th>109851</th>\n",
              "      <td>SOQYTWN12A8C138B38</td>\n",
              "      <td>1</td>\n",
              "    </tr>\n",
              "    <tr>\n",
              "      <th>109850</th>\n",
              "      <td>SOQYTSU12AC468C5E9</td>\n",
              "      <td>1</td>\n",
              "    </tr>\n",
              "    <tr>\n",
              "      <th>49885</th>\n",
              "      <td>SOHLNPT12AB01860FE</td>\n",
              "      <td>1</td>\n",
              "    </tr>\n",
              "  </tbody>\n",
              "</table>\n",
              "</div>"
            ],
            "text/plain": [
              "                    Songid  count\n",
              "121078  SOSVEKO12AB01884A5      1\n",
              "109853  SOQYUKJ12A8C137555      1\n",
              "109851  SOQYTWN12A8C138B38      1\n",
              "109850  SOQYTSU12AC468C5E9      1\n",
              "49885   SOHLNPT12AB01860FE      1"
            ]
          },
          "metadata": {
            "tags": []
          },
          "execution_count": 27
        }
      ]
    },
    {
      "cell_type": "markdown",
      "metadata": {
        "id": "BAMf9_44F8yP"
      },
      "source": [
        "Let's find which user listned the song many times"
      ]
    },
    {
      "cell_type": "code",
      "metadata": {
        "colab": {
          "base_uri": "https://localhost:8080/",
          "height": 417
        },
        "id": "sd0NqrewcAHY",
        "outputId": "cf0c4e5a-570c-4fa7-8b07-e273470339a7"
      },
      "source": [
        "df_merge[['Userid','Songid','Freq']].sort_values(['Freq'],ascending=False)"
      ],
      "execution_count": 28,
      "outputs": [
        {
          "output_type": "execute_result",
          "data": {
            "text/html": [
              "<div>\n",
              "<style scoped>\n",
              "    .dataframe tbody tr th:only-of-type {\n",
              "        vertical-align: middle;\n",
              "    }\n",
              "\n",
              "    .dataframe tbody tr th {\n",
              "        vertical-align: top;\n",
              "    }\n",
              "\n",
              "    .dataframe thead th {\n",
              "        text-align: right;\n",
              "    }\n",
              "</style>\n",
              "<table border=\"1\" class=\"dataframe\">\n",
              "  <thead>\n",
              "    <tr style=\"text-align: right;\">\n",
              "      <th></th>\n",
              "      <th>Userid</th>\n",
              "      <th>Songid</th>\n",
              "      <th>Freq</th>\n",
              "    </tr>\n",
              "  </thead>\n",
              "  <tbody>\n",
              "    <tr>\n",
              "      <th>1490140</th>\n",
              "      <td>22bb29714137fa47083963c30e1a26f1bf517e7d</td>\n",
              "      <td>SOXTUWG12AB018A2E2</td>\n",
              "      <td>923</td>\n",
              "    </tr>\n",
              "    <tr>\n",
              "      <th>862102</th>\n",
              "      <td>a1cc4d088600df2db42e6a305974675ffe8c905d</td>\n",
              "      <td>SOPMHHE12AB01845F6</td>\n",
              "      <td>646</td>\n",
              "    </tr>\n",
              "    <tr>\n",
              "      <th>484425</th>\n",
              "      <td>2d9ea6058d0872ccdc5b1c5c685758bb9c55f0a3</td>\n",
              "      <td>SOAOXTG12A67021AA7</td>\n",
              "      <td>597</td>\n",
              "    </tr>\n",
              "    <tr>\n",
              "      <th>1334371</th>\n",
              "      <td>69ad6b6a1d14d740eb8c2f013a19c1f8048cecde</td>\n",
              "      <td>SONGOJV12AF729AEBD</td>\n",
              "      <td>582</td>\n",
              "    </tr>\n",
              "    <tr>\n",
              "      <th>660940</th>\n",
              "      <td>a86e68128c6a48d3392db22ce1151a3bdccf5fcf</td>\n",
              "      <td>SOFVLYV12A8C145D8F</td>\n",
              "      <td>537</td>\n",
              "    </tr>\n",
              "    <tr>\n",
              "      <th>...</th>\n",
              "      <td>...</td>\n",
              "      <td>...</td>\n",
              "      <td>...</td>\n",
              "    </tr>\n",
              "    <tr>\n",
              "      <th>631230</th>\n",
              "      <td>287db61de9cc414bca70cc80c1a977118da45f4d</td>\n",
              "      <td>SOWYRRB12A8C13ADFA</td>\n",
              "      <td>1</td>\n",
              "    </tr>\n",
              "    <tr>\n",
              "      <th>631231</th>\n",
              "      <td>287db61de9cc414bca70cc80c1a977118da45f4d</td>\n",
              "      <td>SOAYATB12A6701FD50</td>\n",
              "      <td>1</td>\n",
              "    </tr>\n",
              "    <tr>\n",
              "      <th>631234</th>\n",
              "      <td>287db61de9cc414bca70cc80c1a977118da45f4d</td>\n",
              "      <td>SOVMWUC12A8C13750B</td>\n",
              "      <td>1</td>\n",
              "    </tr>\n",
              "    <tr>\n",
              "      <th>631235</th>\n",
              "      <td>287db61de9cc414bca70cc80c1a977118da45f4d</td>\n",
              "      <td>SOBTXPM12A8C13D393</td>\n",
              "      <td>1</td>\n",
              "    </tr>\n",
              "    <tr>\n",
              "      <th>745976</th>\n",
              "      <td>0be911cca5bbed884eea5d58a76a1e3c0f2146e0</td>\n",
              "      <td>SOCDSKF12A6D4F8E45</td>\n",
              "      <td>1</td>\n",
              "    </tr>\n",
              "  </tbody>\n",
              "</table>\n",
              "<p>1491952 rows × 3 columns</p>\n",
              "</div>"
            ],
            "text/plain": [
              "                                           Userid              Songid  Freq\n",
              "1490140  22bb29714137fa47083963c30e1a26f1bf517e7d  SOXTUWG12AB018A2E2   923\n",
              "862102   a1cc4d088600df2db42e6a305974675ffe8c905d  SOPMHHE12AB01845F6   646\n",
              "484425   2d9ea6058d0872ccdc5b1c5c685758bb9c55f0a3  SOAOXTG12A67021AA7   597\n",
              "1334371  69ad6b6a1d14d740eb8c2f013a19c1f8048cecde  SONGOJV12AF729AEBD   582\n",
              "660940   a86e68128c6a48d3392db22ce1151a3bdccf5fcf  SOFVLYV12A8C145D8F   537\n",
              "...                                           ...                 ...   ...\n",
              "631230   287db61de9cc414bca70cc80c1a977118da45f4d  SOWYRRB12A8C13ADFA     1\n",
              "631231   287db61de9cc414bca70cc80c1a977118da45f4d  SOAYATB12A6701FD50     1\n",
              "631234   287db61de9cc414bca70cc80c1a977118da45f4d  SOVMWUC12A8C13750B     1\n",
              "631235   287db61de9cc414bca70cc80c1a977118da45f4d  SOBTXPM12A8C13D393     1\n",
              "745976   0be911cca5bbed884eea5d58a76a1e3c0f2146e0  SOCDSKF12A6D4F8E45     1\n",
              "\n",
              "[1491952 rows x 3 columns]"
            ]
          },
          "metadata": {
            "tags": []
          },
          "execution_count": 28
        }
      ]
    },
    {
      "cell_type": "markdown",
      "metadata": {
        "id": "vzb24FsiGRXb"
      },
      "source": [
        "Let's find how many songs are released in each Release"
      ]
    },
    {
      "cell_type": "code",
      "metadata": {
        "colab": {
          "base_uri": "https://localhost:8080/",
          "height": 447
        },
        "id": "DE7cv7aCeF_0",
        "outputId": "85e279c2-0aaf-48be-9c25-d066a4b617c3"
      },
      "source": [
        "df_uniquetrack[['Songid','ArtistName','Release']].groupby(['Release','ArtistName']).count().sort_values('Songid',ascending=False)"
      ],
      "execution_count": 35,
      "outputs": [
        {
          "output_type": "execute_result",
          "data": {
            "text/html": [
              "<div>\n",
              "<style scoped>\n",
              "    .dataframe tbody tr th:only-of-type {\n",
              "        vertical-align: middle;\n",
              "    }\n",
              "\n",
              "    .dataframe tbody tr th {\n",
              "        vertical-align: top;\n",
              "    }\n",
              "\n",
              "    .dataframe thead th {\n",
              "        text-align: right;\n",
              "    }\n",
              "</style>\n",
              "<table border=\"1\" class=\"dataframe\">\n",
              "  <thead>\n",
              "    <tr style=\"text-align: right;\">\n",
              "      <th></th>\n",
              "      <th></th>\n",
              "      <th>Songid</th>\n",
              "    </tr>\n",
              "    <tr>\n",
              "      <th>Release</th>\n",
              "      <th>ArtistName</th>\n",
              "      <th></th>\n",
              "    </tr>\n",
              "  </thead>\n",
              "  <tbody>\n",
              "    <tr>\n",
              "      <th>Untitled</th>\n",
              "      <th>Der Blutharsch</th>\n",
              "      <td>87</td>\n",
              "    </tr>\n",
              "    <tr>\n",
              "      <th>Hip-Hop Beats</th>\n",
              "      <th>Hip-Hop Beats</th>\n",
              "      <td>33</td>\n",
              "    </tr>\n",
              "    <tr>\n",
              "      <th>Untitled</th>\n",
              "      <th>7000 Dying Rats</th>\n",
              "      <td>31</td>\n",
              "    </tr>\n",
              "    <tr>\n",
              "      <th>Greece 2000</th>\n",
              "      <th>Three Drives</th>\n",
              "      <td>28</td>\n",
              "    </tr>\n",
              "    <tr>\n",
              "      <th>Bonus Track</th>\n",
              "      <th>Elakelaiset</th>\n",
              "      <td>25</td>\n",
              "    </tr>\n",
              "    <tr>\n",
              "      <th>...</th>\n",
              "      <th>...</th>\n",
              "      <td>...</td>\n",
              "    </tr>\n",
              "    <tr>\n",
              "      <th>Hey Jim</th>\n",
              "      <th>James Moody</th>\n",
              "      <td>1</td>\n",
              "    </tr>\n",
              "    <tr>\n",
              "      <th>Hey Jimmy</th>\n",
              "      <th>Los Natas</th>\n",
              "      <td>1</td>\n",
              "    </tr>\n",
              "    <tr>\n",
              "      <th>Hey Jimmy Freek</th>\n",
              "      <th>The Neptunas</th>\n",
              "      <td>1</td>\n",
              "    </tr>\n",
              "    <tr>\n",
              "      <th>Hey Joe</th>\n",
              "      <th>Amp Fiddler</th>\n",
              "      <td>1</td>\n",
              "    </tr>\n",
              "    <tr>\n",
              "      <th>þetta Gerist á Bestu Bæjum</th>\n",
              "      <th>Johann Johannsson</th>\n",
              "      <td>1</td>\n",
              "    </tr>\n",
              "  </tbody>\n",
              "</table>\n",
              "<p>925931 rows × 1 columns</p>\n",
              "</div>"
            ],
            "text/plain": [
              "                                              Songid\n",
              "Release                    ArtistName               \n",
              "Untitled                   Der Blutharsch         87\n",
              "Hip-Hop Beats              Hip-Hop Beats          33\n",
              "Untitled                   7000 Dying Rats        31\n",
              "Greece 2000                Three Drives           28\n",
              "Bonus Track                Elakelaiset            25\n",
              "...                                              ...\n",
              "Hey Jim                    James Moody             1\n",
              "Hey Jimmy                  Los Natas               1\n",
              "Hey Jimmy Freek            The Neptunas            1\n",
              "Hey Joe                    Amp Fiddler             1\n",
              "þetta Gerist á Bestu Bæjum Johann Johannsson       1\n",
              "\n",
              "[925931 rows x 1 columns]"
            ]
          },
          "metadata": {
            "tags": []
          },
          "execution_count": 35
        }
      ]
    },
    {
      "cell_type": "code",
      "metadata": {
        "id": "BTk2Qcm6GQBq"
      },
      "source": [
        ""
      ],
      "execution_count": null,
      "outputs": []
    },
    {
      "cell_type": "code",
      "metadata": {
        "colab": {
          "base_uri": "https://localhost:8080/",
          "height": 417
        },
        "id": "NxrZADhxxhSa",
        "outputId": "32ed1ac7-aaea-4877-fcf4-45b45e76871c"
      },
      "source": [
        "df_uniquetrack[df_uniquetrack['Release']=='Untitled']"
      ],
      "execution_count": 37,
      "outputs": [
        {
          "output_type": "execute_result",
          "data": {
            "text/html": [
              "<div>\n",
              "<style scoped>\n",
              "    .dataframe tbody tr th:only-of-type {\n",
              "        vertical-align: middle;\n",
              "    }\n",
              "\n",
              "    .dataframe tbody tr th {\n",
              "        vertical-align: top;\n",
              "    }\n",
              "\n",
              "    .dataframe thead th {\n",
              "        text-align: right;\n",
              "    }\n",
              "</style>\n",
              "<table border=\"1\" class=\"dataframe\">\n",
              "  <thead>\n",
              "    <tr style=\"text-align: right;\">\n",
              "      <th></th>\n",
              "      <th>Trackid</th>\n",
              "      <th>Songid</th>\n",
              "      <th>ArtistName</th>\n",
              "      <th>Release</th>\n",
              "    </tr>\n",
              "  </thead>\n",
              "  <tbody>\n",
              "    <tr>\n",
              "      <th>4145</th>\n",
              "      <td>TRMGVDK12903CB6FA7</td>\n",
              "      <td>SODNRCH12AB0185AD9</td>\n",
              "      <td>Der Blutharsch</td>\n",
              "      <td>Untitled</td>\n",
              "    </tr>\n",
              "    <tr>\n",
              "      <th>8449</th>\n",
              "      <td>TRMRJUC128F4275423</td>\n",
              "      <td>SOJXDWU12A8C13F636</td>\n",
              "      <td>Harry Pussy</td>\n",
              "      <td>Untitled</td>\n",
              "    </tr>\n",
              "    <tr>\n",
              "      <th>8730</th>\n",
              "      <td>TRMROOY128F9353E6B</td>\n",
              "      <td>SOUUXQO12AB0189A02</td>\n",
              "      <td>Mikaela's Fiend</td>\n",
              "      <td>Untitled</td>\n",
              "    </tr>\n",
              "    <tr>\n",
              "      <th>8976</th>\n",
              "      <td>TRMBMYF128F92C6D14</td>\n",
              "      <td>SOUPWRP12A58A77BE1</td>\n",
              "      <td>Jonezetta</td>\n",
              "      <td>Untitled</td>\n",
              "    </tr>\n",
              "    <tr>\n",
              "      <th>12025</th>\n",
              "      <td>TRMQHJD128F424A4FF</td>\n",
              "      <td>SOJJUDG12A8C1324EA</td>\n",
              "      <td>Robert Hood</td>\n",
              "      <td>Untitled</td>\n",
              "    </tr>\n",
              "    <tr>\n",
              "      <th>...</th>\n",
              "      <td>...</td>\n",
              "      <td>...</td>\n",
              "      <td>...</td>\n",
              "      <td>...</td>\n",
              "    </tr>\n",
              "    <tr>\n",
              "      <th>977117</th>\n",
              "      <td>TRYIZNU12903D04194</td>\n",
              "      <td>SONZPZO12AC468537A</td>\n",
              "      <td>Der Blutharsch</td>\n",
              "      <td>Untitled</td>\n",
              "    </tr>\n",
              "    <tr>\n",
              "      <th>983070</th>\n",
              "      <td>TRYTIVP128F42A4E3E</td>\n",
              "      <td>SOSYDPG12A8C13FD25</td>\n",
              "      <td>Agression</td>\n",
              "      <td>Untitled</td>\n",
              "    </tr>\n",
              "    <tr>\n",
              "      <th>993373</th>\n",
              "      <td>TRYDNMA12903CB6FD0</td>\n",
              "      <td>SOMCQFO12AB0186E41</td>\n",
              "      <td>Der Blutharsch</td>\n",
              "      <td>Untitled</td>\n",
              "    </tr>\n",
              "    <tr>\n",
              "      <th>995675</th>\n",
              "      <td>TRYXWAH128F934C318</td>\n",
              "      <td>SOZVEEA12AB018374C</td>\n",
              "      <td>Psyopus</td>\n",
              "      <td>Untitled</td>\n",
              "    </tr>\n",
              "    <tr>\n",
              "      <th>996564</th>\n",
              "      <td>TRYXEVB128E07912A2</td>\n",
              "      <td>SOZKSIP12D02199328</td>\n",
              "      <td>Marilyn Manson</td>\n",
              "      <td>Untitled</td>\n",
              "    </tr>\n",
              "  </tbody>\n",
              "</table>\n",
              "<p>414 rows × 4 columns</p>\n",
              "</div>"
            ],
            "text/plain": [
              "                   Trackid              Songid       ArtistName   Release\n",
              "4145    TRMGVDK12903CB6FA7  SODNRCH12AB0185AD9   Der Blutharsch  Untitled\n",
              "8449    TRMRJUC128F4275423  SOJXDWU12A8C13F636      Harry Pussy  Untitled\n",
              "8730    TRMROOY128F9353E6B  SOUUXQO12AB0189A02  Mikaela's Fiend  Untitled\n",
              "8976    TRMBMYF128F92C6D14  SOUPWRP12A58A77BE1        Jonezetta  Untitled\n",
              "12025   TRMQHJD128F424A4FF  SOJJUDG12A8C1324EA      Robert Hood  Untitled\n",
              "...                    ...                 ...              ...       ...\n",
              "977117  TRYIZNU12903D04194  SONZPZO12AC468537A   Der Blutharsch  Untitled\n",
              "983070  TRYTIVP128F42A4E3E  SOSYDPG12A8C13FD25        Agression  Untitled\n",
              "993373  TRYDNMA12903CB6FD0  SOMCQFO12AB0186E41   Der Blutharsch  Untitled\n",
              "995675  TRYXWAH128F934C318  SOZVEEA12AB018374C          Psyopus  Untitled\n",
              "996564  TRYXEVB128E07912A2  SOZKSIP12D02199328   Marilyn Manson  Untitled\n",
              "\n",
              "[414 rows x 4 columns]"
            ]
          },
          "metadata": {
            "tags": []
          },
          "execution_count": 37
        }
      ]
    },
    {
      "cell_type": "code",
      "metadata": {
        "colab": {
          "base_uri": "https://localhost:8080/",
          "height": 447
        },
        "id": "cIoBqi0qyuE0",
        "outputId": "574a3e39-4ded-446b-9a95-2f6f4369c49d"
      },
      "source": [
        "df_uniquetrack[df_uniquetrack['Release'] != 'Untitled'][['Songid','ArtistName','Release']].groupby(['Release','ArtistName']).count().sort_values('Songid',ascending=False)"
      ],
      "execution_count": 41,
      "outputs": [
        {
          "output_type": "execute_result",
          "data": {
            "text/html": [
              "<div>\n",
              "<style scoped>\n",
              "    .dataframe tbody tr th:only-of-type {\n",
              "        vertical-align: middle;\n",
              "    }\n",
              "\n",
              "    .dataframe tbody tr th {\n",
              "        vertical-align: top;\n",
              "    }\n",
              "\n",
              "    .dataframe thead th {\n",
              "        text-align: right;\n",
              "    }\n",
              "</style>\n",
              "<table border=\"1\" class=\"dataframe\">\n",
              "  <thead>\n",
              "    <tr style=\"text-align: right;\">\n",
              "      <th></th>\n",
              "      <th></th>\n",
              "      <th>Songid</th>\n",
              "    </tr>\n",
              "    <tr>\n",
              "      <th>Release</th>\n",
              "      <th>ArtistName</th>\n",
              "      <th></th>\n",
              "    </tr>\n",
              "  </thead>\n",
              "  <tbody>\n",
              "    <tr>\n",
              "      <th>Hip-Hop Beats</th>\n",
              "      <th>Hip-Hop Beats</th>\n",
              "      <td>33</td>\n",
              "    </tr>\n",
              "    <tr>\n",
              "      <th>Greece 2000</th>\n",
              "      <th>Three Drives</th>\n",
              "      <td>28</td>\n",
              "    </tr>\n",
              "    <tr>\n",
              "      <th>Bonus Track</th>\n",
              "      <th>Elakelaiset</th>\n",
              "      <td>25</td>\n",
              "    </tr>\n",
              "    <tr>\n",
              "      <th>Jana Gana Mana</th>\n",
              "      <th>AR Rahman</th>\n",
              "      <td>20</td>\n",
              "    </tr>\n",
              "    <tr>\n",
              "      <th>The Age Of Love</th>\n",
              "      <th>Age Of Love</th>\n",
              "      <td>20</td>\n",
              "    </tr>\n",
              "    <tr>\n",
              "      <th>...</th>\n",
              "      <th>...</th>\n",
              "      <td>...</td>\n",
              "    </tr>\n",
              "    <tr>\n",
              "      <th>Hey Hey (Rock On)</th>\n",
              "      <th>The Hot Rocks</th>\n",
              "      <td>1</td>\n",
              "    </tr>\n",
              "    <tr>\n",
              "      <th>Hey Hey (Vampires Vs. Cheerleaders Mix)</th>\n",
              "      <th>Superchick</th>\n",
              "      <td>1</td>\n",
              "    </tr>\n",
              "    <tr>\n",
              "      <th>Hey Hey Baby</th>\n",
              "      <th>Helen Humes</th>\n",
              "      <td>1</td>\n",
              "    </tr>\n",
              "    <tr>\n",
              "      <th>Hey Hey China</th>\n",
              "      <th>Slumber Party</th>\n",
              "      <td>1</td>\n",
              "    </tr>\n",
              "    <tr>\n",
              "      <th>þetta Gerist á Bestu Bæjum</th>\n",
              "      <th>Johann Johannsson</th>\n",
              "      <td>1</td>\n",
              "    </tr>\n",
              "  </tbody>\n",
              "</table>\n",
              "<p>925699 rows × 1 columns</p>\n",
              "</div>"
            ],
            "text/plain": [
              "                                                           Songid\n",
              "Release                                 ArtistName               \n",
              "Hip-Hop Beats                           Hip-Hop Beats          33\n",
              "Greece 2000                             Three Drives           28\n",
              "Bonus Track                             Elakelaiset            25\n",
              "Jana Gana Mana                          AR Rahman              20\n",
              "The Age Of Love                         Age Of Love            20\n",
              "...                                                           ...\n",
              "Hey Hey (Rock On)                       The Hot Rocks           1\n",
              "Hey Hey (Vampires Vs. Cheerleaders Mix) Superchick              1\n",
              "Hey Hey Baby                            Helen Humes             1\n",
              "Hey Hey China                           Slumber Party           1\n",
              "þetta Gerist á Bestu Bæjum              Johann Johannsson       1\n",
              "\n",
              "[925699 rows x 1 columns]"
            ]
          },
          "metadata": {
            "tags": []
          },
          "execution_count": 41
        }
      ]
    },
    {
      "cell_type": "markdown",
      "metadata": {
        "id": "e3qXzQyYGZmM"
      },
      "source": [
        "From above it is clear that in Hip Hop Beats release 33 Songs has released"
      ]
    },
    {
      "cell_type": "code",
      "metadata": {
        "id": "7upQhbWSzwzX"
      },
      "source": [
        ""
      ],
      "execution_count": null,
      "outputs": []
    }
  ]
}